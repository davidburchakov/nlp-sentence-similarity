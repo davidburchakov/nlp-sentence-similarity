{
 "cells": [
  {
   "cell_type": "markdown",
   "metadata": {},
   "source": [
    "# Przetwarzanie Języka Naturalnego/ Natural Language Processing\n",
    "### Project\n",
    "### Wykonany przez studentów Politechniki Krakowskiej, wydziału Informatyki i Telekomunikacji\n",
    "* David Burchakov\n",
    "* Mikhail Ermolaev\n",
    "  "
   ]
  },
  {
   "cell_type": "markdown",
   "metadata": {
    "id": "1_CY9_ZGhqsd"
   },
   "source": [
    "# Narzędzie do identyfikacji podobnych tekstów\n",
    "\n",
    "> 13. Proszę napisać narzędzie do identyfikacji podobnych tekstów (znaczenie, a nie tekst) i\n",
    "> przetestować na zestawie danych:\n",
    "> Literatura:\n",
    "> https://www.kaggle.com/c/quora-question-pairs/overview\n",
    ">"
   ]
  },
  {
   "cell_type": "markdown",
   "metadata": {
    "id": "9wLZLYg8NmRU"
   },
   "source": [
    "## TOC: <a class=\"anchor\" id=\"TOC\" name=\"TOC\"></a>\n",
    "* [Preface](#preface)\n",
    "* [Pre-Processing](#second-bullet)\n",
    "  * [Remove Stopwords](#pre1)\n",
    "  * [Expand Contractions](#pre2)\n",
    "  * [Remove possessive endings](#pre3)\n",
    "  * [Lemmatization](#pre4)\n",
    "  * [Remove special characters](#special-char-r)\n",
    "  * [Preserve capitalizations](#preserve-cap)\n",
    "  * [Capitalize Named Entities](#cap)\n",
    "  * [All together](#pre-together)\n",
    "  * [Tokenization](#token)\n",
    "* [Find similar movies from the dataset](#similar)\n",
    "  * [LSA and PCA without pre-processing](#similar_without_preproc)\n",
    "  * [LSA and PCA with pre-processing](#similar_with_preproc)\n",
    "  * [Word2Vec with pre-processing](#word2Vec_with_preproc)\n",
    "\n",
    "\n",
    "* [Identify similarities between two sentences](#between)\n",
    "  * [Advanced methods for text processing](#advanced)\n",
    "      * [Word Embedding Methods](#embedding)\n",
    "          * [Gensim](#gensim)\n",
    "          * [FastText](#fasttext)\n",
    "          * [GloVe](#glove)\n",
    "* [Natural Language Generation](#NN)\n",
    "* [Similar sentence generation](#NLG)"
   ]
  },
  {
   "cell_type": "markdown",
   "metadata": {
    "id": "BOqCd99IlCkD"
   },
   "source": [
    "# Preface <a class=\"anchor\" id=\"preface\" name=\"preface\"></a>\n"
   ]
  },
  {
   "cell_type": "markdown",
   "metadata": {
    "id": "fpob8aqmmcs8"
   },
   "source": [
    "# **Pre-processing** <a class=\"anchor\" id=\"second-bullet\" name=\"second-bullet\"></a>"
   ]
  },
  {
   "cell_type": "markdown",
   "metadata": {
    "id": "0WOKSqLmm9Ad"
   },
   "source": [
    "### **Remove stopwords** <a class=\"anchor\" id=\"pre1\" name=\"pre1\"></a>"
   ]
  },
  {
   "cell_type": "code",
   "execution_count": null,
   "metadata": {
    "colab": {
     "base_uri": "https://localhost:8080/"
    },
    "id": "E4S-lHqlnBwz",
    "outputId": "dc60a047-6fd8-4d64-8a3b-db0c2645879f"
   },
   "outputs": [
    {
     "name": "stderr",
     "output_type": "stream",
     "text": [
      "[nltk_data] Downloading package stopwords to /root/nltk_data...\n",
      "[nltk_data]   Unzipping corpora/stopwords.zip.\n",
      "[nltk_data] Downloading package punkt to /root/nltk_data...\n",
      "[nltk_data]   Unzipping tokenizers/punkt.zip.\n"
     ]
    }
   ],
   "source": [
    "%%capture\n",
    "import nltk\n",
    "nltk.download('stopwords')\n",
    "nltk.download('punkt')"
   ]
  },
  {
   "cell_type": "code",
   "execution_count": null,
   "metadata": {
    "colab": {
     "base_uri": "https://localhost:8080/"
    },
    "id": "i99cEhtynEct",
    "outputId": "e780e2f5-4cee-4c76-dbac-11fe6d0239dc"
   },
   "outputs": [
    {
     "name": "stdout",
     "output_type": "stream",
     "text": [
      "Sample sentence , showing stop words filtration . not like\n"
     ]
    }
   ],
   "source": [
    "from nltk.corpus import stopwords\n",
    "from nltk.tokenize import word_tokenize\n",
    "\n",
    "stop_words = set(stopwords.words('english'))\n",
    "\n",
    "# Remove negative words like \"not\" from the stop words list\n",
    "negative_words = {'not'}\n",
    "stop_words = stop_words - negative_words\n",
    "\n",
    "def remove_stopwords(text):\n",
    "    words = word_tokenize(text)\n",
    "\n",
    "    # Ensure that negative words are not removed\n",
    "    filtered_words = [word for word in words if word.lower() not in stop_words]\n",
    "\n",
    "    filtered_text = ' '.join(filtered_words)\n",
    "\n",
    "    return filtered_text\n",
    "\n",
    "\n",
    "# Example usage:\n",
    "example_text = \"This is a Sample sentence, showing off the stop words filtration. Does not like\"\n",
    "filtered_example = remove_stopwords(example_text)\n",
    "print(filtered_example)"
   ]
  },
  {
   "cell_type": "markdown",
   "metadata": {
    "id": "haYh50YJnIGc"
   },
   "source": [
    "### **Expand contractions** <a class=\"anchor\" id=\"pre2\" name=\"pre2\"></a>"
   ]
  },
  {
   "cell_type": "code",
   "execution_count": null,
   "metadata": {
    "id": "u0L6mHvunKHc"
   },
   "outputs": [],
   "source": [
    "%%capture\n",
    "!pip install contractions"
   ]
  },
  {
   "cell_type": "code",
   "execution_count": null,
   "metadata": {
    "colab": {
     "base_uri": "https://localhost:8080/"
    },
    "id": "sr227u4nnLRJ",
    "outputId": "a9d4726e-02b5-456e-cbdc-e7231dc8509b"
   },
   "outputs": [
    {
     "name": "stderr",
     "output_type": "stream",
     "text": [
      "/usr/local/lib/python3.10/dist-packages/spacy/util.py:910: UserWarning: [W095] Model 'en_core_web_sm' (3.6.0) was trained with spaCy v3.6.0 and may not be 100% compatible with the current version (3.7.2). If you see errors or degraded performance, download a newer compatible model or retrain your custom model with the current spaCy version. For more details and available updates, run: python -m spacy validate\n",
      "  warnings.warn(warn_msg)\n"
     ]
    },
    {
     "name": "stdout",
     "output_type": "stream",
     "text": [
      "don't   aren't   won't     doesn't\n",
      "do not  are not  will not  does not\n"
     ]
    }
   ],
   "source": [
    "import spacy\n",
    "import contractions\n",
    "\n",
    "nlp = spacy.load(\"en_core_web_sm\")\n",
    "\n",
    "def expand_contractions(text):\n",
    "    expanded_text = contractions.fix(text)\n",
    "    return expanded_text\n",
    "\n",
    "print(\"don't   aren't   won't     doesn't\")\n",
    "print(expand_contractions(\"don't  aren't  won't  doesn't\"))"
   ]
  },
  {
   "cell_type": "markdown",
   "metadata": {
    "id": "-K4_vcxQnNbV"
   },
   "source": [
    "### **Remove possessive endings that are not contractions** <a class=\"anchor\" id=\"pre3\" name=\"pre3\"></a>\n",
    "e.g century's => century"
   ]
  },
  {
   "cell_type": "code",
   "execution_count": null,
   "metadata": {
    "colab": {
     "base_uri": "https://localhost:8080/",
     "height": 1000
    },
    "id": "b34Wzm5-nP_j",
    "outputId": "79373470-f2df-45cb-e611-0641556c593e"
   },
   "outputs": [
    {
     "data": {
      "application/vnd.google.colaboratory.intrinsic+json": {
       "type": "string"
      },
      "text/plain": [
       "'the rock is destined to be the 21st century new and that he is going to make a splash even greater than arnold schwarzenegger , jean-claud van damme or steven segal .'"
      ]
     },
     "execution_count": 16,
     "metadata": {},
     "output_type": "execute_result"
    }
   ],
   "source": [
    "import re\n",
    "\n",
    "def remove_possessive_endings(text):\n",
    "    text = re.sub(r\"'s\\b\", \"\", text)\n",
    "    return text\n",
    "\n",
    "text = \"the rock is destined to be the 21st century's new and that he is going to make a splash \\\n",
    "even greater than arnold schwarzenegger , jean-claud van damme or steven segal .\"\n",
    "remove_possessive_endings(text)"
   ]
  },
  {
   "cell_type": "markdown",
   "metadata": {
    "id": "TasgtGQznWOH"
   },
   "source": [
    "### **Lemmatization** <a class=\"anchor\" id=\"pre4\" name=\"pre4\"></a>\n",
    "Lemmatize the sentence, keeping in mind dashed words like fast-forward, self-explanatory - will consider dashed words as a single token"
   ]
  },
  {
   "cell_type": "code",
   "execution_count": null,
   "metadata": {
    "colab": {
     "base_uri": "https://localhost:8080/"
    },
    "id": "r1Mq4_imnX9d",
    "outputId": "501048b3-0169-44c5-ddc2-9f629648a3f4"
   },
   "outputs": [
    {
     "name": "stdout",
     "output_type": "stream",
     "text": [
      "I need to fast-forward through the boring part of this movie . finally\n"
     ]
    }
   ],
   "source": [
    "import spacy\n",
    "\n",
    "nlp = spacy.load(\"en_core_web_sm\")\n",
    "\n",
    "def lemmatize(sentence):\n",
    "    # Parse the sentence using spaCy\n",
    "    doc = nlp(sentence)\n",
    "\n",
    "    # Initialize an empty list to store the lemmatized tokens\n",
    "    lemmatized_tokens = []\n",
    "\n",
    "    # Iterate over each token in the document\n",
    "    for token in doc:\n",
    "        # Check if the token is part of a hyphenated word\n",
    "        if token.i > 0 and (doc[token.i - 1].text == '-' or token.text == '-'):\n",
    "            # Skip the current token as it's part of a hyphenated word\n",
    "            continue\n",
    "        elif token.i < len(doc) - 1 and (doc[token.i + 1].text == '-' or token.text == '-'):\n",
    "            # If the token is the first part of a hyphenated word, concatenate it with the next part\n",
    "            hyphenated_word = token.text + doc[token.i + 1].text + doc[token.i + 2].text\n",
    "            # Append the hyphenated word to the list without lemmatizing\n",
    "            lemmatized_tokens.append(hyphenated_word)\n",
    "        else:\n",
    "            # If the token is a regular word, lemmatize it and append to the list\n",
    "            lemmatized_tokens.append(token.lemma_)\n",
    "\n",
    "    # Join the lemmatized tokens back into a string\n",
    "    lemmatized = \" \".join(lemmatized_tokens)\n",
    "\n",
    "    return lemmatized\n",
    "\n",
    "# Example usage\n",
    "sentence = \"I need to fast-forward through the boring parts of this movie. Finally\"\n",
    "lemmatized_sentence = lemmatize(sentence)\n",
    "print(lemmatized_sentence)\n"
   ]
  },
  {
   "cell_type": "markdown",
   "metadata": {
    "id": "ZmI8iGF7naJ-"
   },
   "source": [
    "### **Remove special characters** <a class=\"anchor\" id=\"special-char-r\" name=\"special-char-r\"></a>\n",
    "Removing special characters is not always relevant.\n",
    "\n",
    "But for text classification characters like ! and ? are not very useful\n",
    "\n",
    "Punctuation and characters are more important for chatbots and NLG"
   ]
  },
  {
   "cell_type": "code",
   "execution_count": null,
   "metadata": {
    "colab": {
     "base_uri": "https://localhost:8080/"
    },
    "id": "aQTwPjdyncQw",
    "outputId": "c4bce93b-65ed-4d42-8745-dce87f228513"
   },
   "outputs": [
    {
     "name": "stdout",
     "output_type": "stream",
     "text": [
      "Hello! This is a test text with HTML:  and some self-explanatory special characters, including numbers 123 and symbols.\n"
     ]
    }
   ],
   "source": [
    "import re\n",
    "\n",
    "def remove_special_chars(text):\n",
    "    # Remove HTML tags\n",
    "    no_html = re.sub(r'<[^>]+>', '', text)\n",
    "\n",
    "    # Keep ?, !, ., ,, -, : and numbers; remove other special characters\n",
    "    cleaned_text = re.sub(r'[^a-zA-Z0-9\\s\\?\\!\\-\\:\\.,]', '', no_html)\n",
    "\n",
    "    return cleaned_text\n",
    "\n",
    "# Example usage\n",
    "example_text = \"Hello! This is a test text with HTML: <br> and some[]{}<html> self-explanatory (special) characters, including numbers 123 and symbols{}[]()/\\\\.\"\n",
    "cleaned_text = remove_special_chars(example_text)\n",
    "print(cleaned_text)"
   ]
  },
  {
   "cell_type": "markdown",
   "metadata": {
    "id": "eeMmrk0AnfVZ"
   },
   "source": [
    "## **Handle Capitalization**\n",
    "<a class=\"anchor\" id=\"preserve-cap\" name=\"preserve-cap\"></a>\n",
    "##### Handle capitalization using spacy. Words that mean names, companies, cities, etc will stay capitalized.\n",
    "##### Capitalized words at the beginning of the sentence will be lowercased"
   ]
  },
  {
   "cell_type": "code",
   "execution_count": null,
   "metadata": {
    "colab": {
     "base_uri": "https://localhost:8080/"
    },
    "id": "o8js5uBOnhLG",
    "outputId": "65047c3e-c441-44db-d801-d2552c372e01"
   },
   "outputs": [
    {
     "name": "stdout",
     "output_type": "stream",
     "text": [
      "Apple Inc. is based in Cupertino . i love New York . Century Apples . the rock is destined to be the 21st century 's new conan and that he 's going to make a splash even greater than Arnold Schwarzenegger , Jean - Claud Van Damme or Steven Segal .\n"
     ]
    }
   ],
   "source": [
    "import spacy\n",
    "\n",
    "nlp = spacy.load(\"en_core_web_sm\")\n",
    "\n",
    "def preserve_capitalization(text):\n",
    "    doc = nlp(text)\n",
    "    new_text = []\n",
    "    for token in doc:\n",
    "        if token.ent_type_:\n",
    "            new_text.append(token.text)\n",
    "        else:\n",
    "            new_text.append(token.text.lower())\n",
    "    return ' '.join(new_text)\n",
    "\n",
    "text = \"Apple Inc. is based in Cupertino. I love New York. Century Apples. the rock is destined to be the 21st century's new conan and \\\n",
    "that he's going to make a splash even Greater than Arnold Schwarzenegger , Jean-Claud Van Damme or Steven Segal . \"\n",
    "processed_text = preserve_capitalization(text)\n",
    "print(processed_text)"
   ]
  },
  {
   "cell_type": "markdown",
   "metadata": {
    "id": "2xAYa2HPni8W"
   },
   "source": [
    "## **Capitalize named entities**\n",
    "<a class=\"anchor\" id=\"cap\" name=\"cap\"></a>\n",
    "\n",
    "Capitalize each word of a named-entity\n",
    "\n",
    "e.g arnold schwarzenegger => Arnold Schwarzenegger, NOT Arnold schwarzenegger"
   ]
  },
  {
   "cell_type": "code",
   "execution_count": null,
   "metadata": {
    "id": "kE3Fqbv3nllt"
   },
   "outputs": [],
   "source": [
    "%%capture\n",
    "!python -m spacy download xx_ent_wiki_sm\n",
    "\n",
    "# Load the multi-language NER model\n",
    "nlp = spacy.load(\"xx_ent_wiki_sm\")"
   ]
  },
  {
   "cell_type": "code",
   "execution_count": null,
   "metadata": {
    "colab": {
     "base_uri": "https://localhost:8080/"
    },
    "id": "PnTmciB_nnK2",
    "outputId": "e289c629-ca7f-45f4-f5b2-57a2a262f087"
   },
   "outputs": [
    {
     "name": "stdout",
     "output_type": "stream",
     "text": [
      "Apple Inc. Warsaw, London, Prague, Arnold Schwarzenegger, Jean-claud Van Damme or steven segal. I have an Apple Iphone\n"
     ]
    }
   ],
   "source": [
    "import spacy\n",
    "\n",
    "\"\"\"\n",
    "Not recognizes all Named Entities correctly.\n",
    "Should be improved or skipped.\n",
    "\"\"\"\n",
    "def capitalize_named_entities(text):\n",
    "    doc = nlp(text)\n",
    "    new_text = \"\"\n",
    "    last_idx = 0\n",
    "\n",
    "    for ent in doc.ents:\n",
    "        new_text += text[last_idx:ent.start_char]\n",
    "\n",
    "        # Split the entity text by space and capitalize each word\n",
    "        entity_words = ent.text.split()\n",
    "        capitalized_entity = ' '.join(word.capitalize() for word in entity_words)\n",
    "\n",
    "        # Add the capitalized entity text\n",
    "        new_text += capitalized_entity\n",
    "\n",
    "        last_idx = ent.end_char\n",
    "\n",
    "    # Add the remainder of the text after the last entity\n",
    "    new_text += text[last_idx:]\n",
    "\n",
    "    return new_text\n",
    "\n",
    "text = \"apple inc. warsaw, london, prague, arnold schwarzenegger, jean-claud van damme or steven segal. I have an apple iphone\"\n",
    "# text = dataset.iloc[0].Review\n",
    "capitalized_text = capitalize_named_entities(text)\n",
    "print(capitalized_text)\n"
   ]
  },
  {
   "cell_type": "code",
   "execution_count": null,
   "metadata": {
    "colab": {
     "base_uri": "https://localhost:8080/"
    },
    "id": "JJcExnvbn0yo",
    "outputId": "0acb3f80-50dd-4542-d15a-855940860337"
   },
   "outputs": [
    {
     "name": "stdout",
     "output_type": "stream",
     "text": [
      "the rock is destined to be The 21St Century'S new 'conan' and that he's going to make a splash even greater than arnold schwarzenegger, Jean-claud van damme or steven segal. apple. I like apples. I eat an apple. I have an apple iphone\n"
     ]
    }
   ],
   "source": [
    "import spacy\n",
    "\n",
    "# Load the spaCy model with NER capabilities\n",
    "nlp = spacy.load(\"en_core_web_sm\")\n",
    "\n",
    "def capitalize_named_entities(text):\n",
    "    # Process the text with spaCy\n",
    "    doc = nlp(text)\n",
    "\n",
    "    # Iterate over the identified entities\n",
    "    for ent in doc.ents:\n",
    "        # Capitalize each entity in the text\n",
    "        text = text.replace(ent.text, ent.text.title())\n",
    "\n",
    "    return text\n",
    "\n",
    "# Example usage\n",
    "text = \"the rock is destined to be the 21st century's new 'conan' and that he's going to make a splash even greater \\\n",
    "than arnold schwarzenegger, jean-claud van damme or steven segal. apple. I like apples. I eat an apple. I have an apple iphone\"\n",
    "capitalized_text = capitalize_named_entities(text)\n",
    "print(capitalized_text)\n"
   ]
  },
  {
   "cell_type": "markdown",
   "metadata": {
    "id": "OVyJrotxn_XQ"
   },
   "source": [
    "## **Pre-processing all together** <a class=\"anchor\" id=\"pre-together\" name=\"pre-together\"></a>\n",
    "\n",
    "[go to TOC](#TOC)"
   ]
  },
  {
   "cell_type": "code",
   "execution_count": null,
   "metadata": {
    "colab": {
     "base_uri": "https://localhost:8080/"
    },
    "id": "89AAlFiu10LD",
    "outputId": "bbcdaa62-3c8c-4520-aab7-ec60203526f0"
   },
   "outputs": [
    {
     "name": "stdout",
     "output_type": "stream",
     "text": [
      "movie truly amazing great story .\n"
     ]
    }
   ],
   "source": [
    "def process_sentence(sentence):\n",
    "  try:\n",
    "    contracted = expand_contractions(sentence)\n",
    "    stop = remove_stopwords(contracted)\n",
    "    possessive = remove_possessive_endings(stop)\n",
    "    lemma = lemmatize(possessive)\n",
    "    capitalized = preserve_capitalization(lemma)\n",
    "    capital = capitalize_named_entities(capitalized)\n",
    "    special = remove_special_chars(capital)\n",
    "\n",
    "    return special\n",
    "  except Exception as e:\n",
    "    print(f\"Error processing sentence {sentence}: {e}\")\n",
    "\n",
    "sentence = \"This movie was truly amazing and had a great story.\"\n",
    "processed_sentence = process_sentence(sentence)\n",
    "print(processed_sentence)"
   ]
  },
  {
   "cell_type": "code",
   "execution_count": null,
   "metadata": {
    "colab": {
     "base_uri": "https://localhost:8080/",
     "height": 245
    },
    "id": "I8vTXU7AoCbk",
    "outputId": "0c3db02c-2094-4442-b0fe-d0759001ac62"
   },
   "outputs": [
    {
     "ename": "NameError",
     "evalue": "ignored",
     "output_type": "error",
     "traceback": [
      "\u001b[0;31m---------------------------------------------------------------------------\u001b[0m",
      "\u001b[0;31mNameError\u001b[0m                                 Traceback (most recent call last)",
      "\u001b[0;32m<ipython-input-15-a6cc91959402>\u001b[0m in \u001b[0;36m<cell line: 10>\u001b[0;34m()\u001b[0m\n\u001b[1;32m      8\u001b[0m \u001b[0;34m\u001b[0m\u001b[0m\n\u001b[1;32m      9\u001b[0m \u001b[0mdataset_clean\u001b[0m \u001b[0;34m=\u001b[0m \u001b[0;34m[\u001b[0m\u001b[0;34m]\u001b[0m\u001b[0;34m\u001b[0m\u001b[0;34m\u001b[0m\u001b[0m\n\u001b[0;32m---> 10\u001b[0;31m \u001b[0;32mfor\u001b[0m \u001b[0mi\u001b[0m \u001b[0;32min\u001b[0m \u001b[0mrange\u001b[0m\u001b[0;34m(\u001b[0m\u001b[0mlen\u001b[0m\u001b[0;34m(\u001b[0m\u001b[0mdataset\u001b[0m\u001b[0;34m)\u001b[0m\u001b[0;34m)\u001b[0m\u001b[0;34m:\u001b[0m\u001b[0;34m\u001b[0m\u001b[0;34m\u001b[0m\u001b[0m\n\u001b[0m\u001b[1;32m     11\u001b[0m     \u001b[0;32mtry\u001b[0m\u001b[0;34m:\u001b[0m\u001b[0;34m\u001b[0m\u001b[0;34m\u001b[0m\u001b[0m\n\u001b[1;32m     12\u001b[0m         \u001b[0mitem\u001b[0m \u001b[0;34m=\u001b[0m \u001b[0mdataset\u001b[0m\u001b[0;34m.\u001b[0m\u001b[0miloc\u001b[0m\u001b[0;34m[\u001b[0m\u001b[0mi\u001b[0m\u001b[0;34m]\u001b[0m\u001b[0;34m\u001b[0m\u001b[0;34m\u001b[0m\u001b[0m\n",
      "\u001b[0;31mNameError\u001b[0m: name 'dataset' is not defined"
     ]
    }
   ],
   "source": [
    "import pandas as pd\n",
    "import time\n",
    "\n",
    "start_time = time.time()\n",
    "\n",
    "\n",
    "\n",
    "\n",
    "dataset_clean = []\n",
    "for i in range(len(dataset)):\n",
    "    try:\n",
    "        item = dataset.iloc[i]\n",
    "        contracted = expand_contractions(item.Review)\n",
    "        stop = remove_stopwords(contracted)\n",
    "        possessive = remove_possessive_endings(stop)\n",
    "        lemma = lemmatize(possessive)\n",
    "        capitalized = preserve_capitalization(lemma)\n",
    "        capital = capitalize_named_entities(capitalized)\n",
    "        special = remove_special_chars(capital)\n",
    "\n",
    "        entry = {'Review': special, 'Freshness': item.Freshness}\n",
    "        dataset_clean.append(entry)\n",
    "    except Exception as e:\n",
    "        print(f\"Error processing row {i}: {e}\")\n",
    "\n",
    "dataset_clean = pd.DataFrame(dataset_clean)\n",
    "\n",
    "\n",
    "end_time = time.time()\n",
    "print(f\"Time taken: {end_time - start_time} seconds\")"
   ]
  },
  {
   "cell_type": "markdown",
   "metadata": {
    "id": "aGoIrltpr-6L"
   },
   "source": [
    "### **Tokenization** <a class=\"anchor\" id=\"token\" name=\"token\"></a>\n",
    "For Movie Review data the casual tokenizer from NLTK is chosen.\n",
    "\n",
    "Additionally, it removes repeated chatacters  "
   ]
  },
  {
   "cell_type": "code",
   "execution_count": null,
   "metadata": {
    "colab": {
     "base_uri": "https://localhost:8080/"
    },
    "id": "SkuZJ147sHnn",
    "outputId": "0c2f522f-5b40-4111-be1c-ecffeb67c0b4"
   },
   "outputs": [
    {
     "name": "stdout",
     "output_type": "stream",
     "text": [
      "RT @TJMonticello Best day ever at Monticello.Awesome day :*)\n",
      "\n",
      "['RT', 'Best', 'day', 'ever', 'at', 'Monticello.Awesome', 'day', ':*)']\n"
     ]
    }
   ],
   "source": [
    "from nltk.tokenize.casual import casual_tokenize\n",
    "message = \"\"\"    RT @TJMonticello Best day everrrrrrr at Monticello.\\\n",
    "Awesommmmmmeeeeeeee day :*)\"\"\"\n",
    "message = \"\"\"RT @TJMonticello Best day ever at Monticello.\\\n",
    "Awesome day :*)\"\"\"\n",
    "print(message)\n",
    "print()\n",
    "print(casual_tokenize(message, reduce_len=True, strip_handles=True))"
   ]
  },
  {
   "cell_type": "markdown",
   "metadata": {
    "id": "UwCxRYdBjfT-"
   },
   "source": [
    "# Similar Movies <a class=\"anchor\" id=\"similar\" name=\"similar\"></a>"
   ]
  },
  {
   "cell_type": "markdown",
   "metadata": {
    "id": "9cNWDs967Csz"
   },
   "source": [
    "Here's an example of finding the most similar films from the database using LSA and PCA.\n",
    "First, we import all the necessary libraries and also read data from the file."
   ]
  },
  {
   "cell_type": "code",
   "execution_count": null,
   "metadata": {
    "colab": {
     "base_uri": "https://localhost:8080/"
    },
    "id": "n66jKRO97uVW",
    "outputId": "8a67c031-1d09-4fd5-9da6-ad246f26e655"
   },
   "outputs": [
    {
     "name": "stdout",
     "output_type": "stream",
     "text": [
      "Collecting contractions\n",
      "  Downloading contractions-0.1.73-py2.py3-none-any.whl (8.7 kB)\n",
      "Collecting textsearch>=0.0.21 (from contractions)\n",
      "  Downloading textsearch-0.0.24-py2.py3-none-any.whl (7.6 kB)\n",
      "Collecting anyascii (from textsearch>=0.0.21->contractions)\n",
      "  Downloading anyascii-0.3.2-py3-none-any.whl (289 kB)\n",
      "\u001b[2K     \u001b[90m━━━━━━━━━━━━━━━━━━━━━━━━━━━━━━━━━━━━━━━━\u001b[0m \u001b[32m289.9/289.9 kB\u001b[0m \u001b[31m3.3 MB/s\u001b[0m eta \u001b[36m0:00:00\u001b[0m\n",
      "\u001b[?25hCollecting pyahocorasick (from textsearch>=0.0.21->contractions)\n",
      "  Downloading pyahocorasick-2.0.0-cp310-cp310-manylinux_2_5_x86_64.manylinux1_x86_64.manylinux_2_12_x86_64.manylinux2010_x86_64.whl (110 kB)\n",
      "\u001b[2K     \u001b[90m━━━━━━━━━━━━━━━━━━━━━━━━━━━━━━━━━━━━━━━━\u001b[0m \u001b[32m110.8/110.8 kB\u001b[0m \u001b[31m7.8 MB/s\u001b[0m eta \u001b[36m0:00:00\u001b[0m\n",
      "\u001b[?25hInstalling collected packages: pyahocorasick, anyascii, textsearch, contractions\n",
      "Successfully installed anyascii-0.3.2 contractions-0.1.73 pyahocorasick-2.0.0 textsearch-0.0.24\n",
      "Requirement already satisfied: gensim in /usr/local/lib/python3.10/dist-packages (4.3.2)\n",
      "Requirement already satisfied: numpy>=1.18.5 in /usr/local/lib/python3.10/dist-packages (from gensim) (1.23.5)\n",
      "Requirement already satisfied: scipy>=1.7.0 in /usr/local/lib/python3.10/dist-packages (from gensim) (1.11.4)\n",
      "Requirement already satisfied: smart-open>=1.8.1 in /usr/local/lib/python3.10/dist-packages (from gensim) (6.4.0)\n"
     ]
    }
   ],
   "source": [
    "!pip install contractions\n",
    "!pip install gensim"
   ]
  },
  {
   "cell_type": "code",
   "execution_count": null,
   "metadata": {
    "colab": {
     "base_uri": "https://localhost:8080/",
     "height": 146
    },
    "id": "K4m-loAs0ZGZ",
    "outputId": "582de5cc-178c-4a77-867f-2a8c3bcc16f9"
   },
   "outputs": [
    {
     "data": {
      "text/html": [
       "\n",
       "  <div id=\"df-31dadb95-a0cf-45b8-bfb6-a041a906650c\" class=\"colab-df-container\">\n",
       "    <div>\n",
       "<style scoped>\n",
       "    .dataframe tbody tr th:only-of-type {\n",
       "        vertical-align: middle;\n",
       "    }\n",
       "\n",
       "    .dataframe tbody tr th {\n",
       "        vertical-align: top;\n",
       "    }\n",
       "\n",
       "    .dataframe thead th {\n",
       "        text-align: right;\n",
       "    }\n",
       "</style>\n",
       "<table border=\"1\" class=\"dataframe\">\n",
       "  <thead>\n",
       "    <tr style=\"text-align: right;\">\n",
       "      <th></th>\n",
       "      <th>title</th>\n",
       "      <th>tagline</th>\n",
       "      <th>overview</th>\n",
       "      <th>genres</th>\n",
       "      <th>popularity</th>\n",
       "      <th>description</th>\n",
       "    </tr>\n",
       "  </thead>\n",
       "  <tbody>\n",
       "    <tr>\n",
       "      <th>0</th>\n",
       "      <td>Avatar</td>\n",
       "      <td>Enter the World of Pandora.</td>\n",
       "      <td>In the 22nd century, a paraplegic Marine is di...</td>\n",
       "      <td>[{\"id\": 28, \"name\": \"Action\"}, {\"id\": 12, \"nam...</td>\n",
       "      <td>150.437577</td>\n",
       "      <td>Enter the World of Pandora. In the 22nd centur...</td>\n",
       "    </tr>\n",
       "    <tr>\n",
       "      <th>1</th>\n",
       "      <td>Pirates of the Caribbean: At World's End</td>\n",
       "      <td>At the end of the world, the adventure begins.</td>\n",
       "      <td>Captain Barbossa, long believed to be dead, ha...</td>\n",
       "      <td>[{\"id\": 12, \"name\": \"Adventure\"}, {\"id\": 14, \"...</td>\n",
       "      <td>139.082615</td>\n",
       "      <td>At the end of the world, the adventure begins....</td>\n",
       "    </tr>\n",
       "  </tbody>\n",
       "</table>\n",
       "</div>\n",
       "    <div class=\"colab-df-buttons\">\n",
       "\n",
       "  <div class=\"colab-df-container\">\n",
       "    <button class=\"colab-df-convert\" onclick=\"convertToInteractive('df-31dadb95-a0cf-45b8-bfb6-a041a906650c')\"\n",
       "            title=\"Convert this dataframe to an interactive table.\"\n",
       "            style=\"display:none;\">\n",
       "\n",
       "  <svg xmlns=\"http://www.w3.org/2000/svg\" height=\"24px\" viewBox=\"0 -960 960 960\">\n",
       "    <path d=\"M120-120v-720h720v720H120Zm60-500h600v-160H180v160Zm220 220h160v-160H400v160Zm0 220h160v-160H400v160ZM180-400h160v-160H180v160Zm440 0h160v-160H620v160ZM180-180h160v-160H180v160Zm440 0h160v-160H620v160Z\"/>\n",
       "  </svg>\n",
       "    </button>\n",
       "\n",
       "  <style>\n",
       "    .colab-df-container {\n",
       "      display:flex;\n",
       "      gap: 12px;\n",
       "    }\n",
       "\n",
       "    .colab-df-convert {\n",
       "      background-color: #E8F0FE;\n",
       "      border: none;\n",
       "      border-radius: 50%;\n",
       "      cursor: pointer;\n",
       "      display: none;\n",
       "      fill: #1967D2;\n",
       "      height: 32px;\n",
       "      padding: 0 0 0 0;\n",
       "      width: 32px;\n",
       "    }\n",
       "\n",
       "    .colab-df-convert:hover {\n",
       "      background-color: #E2EBFA;\n",
       "      box-shadow: 0px 1px 2px rgba(60, 64, 67, 0.3), 0px 1px 3px 1px rgba(60, 64, 67, 0.15);\n",
       "      fill: #174EA6;\n",
       "    }\n",
       "\n",
       "    .colab-df-buttons div {\n",
       "      margin-bottom: 4px;\n",
       "    }\n",
       "\n",
       "    [theme=dark] .colab-df-convert {\n",
       "      background-color: #3B4455;\n",
       "      fill: #D2E3FC;\n",
       "    }\n",
       "\n",
       "    [theme=dark] .colab-df-convert:hover {\n",
       "      background-color: #434B5C;\n",
       "      box-shadow: 0px 1px 3px 1px rgba(0, 0, 0, 0.15);\n",
       "      filter: drop-shadow(0px 1px 2px rgba(0, 0, 0, 0.3));\n",
       "      fill: #FFFFFF;\n",
       "    }\n",
       "  </style>\n",
       "\n",
       "    <script>\n",
       "      const buttonEl =\n",
       "        document.querySelector('#df-31dadb95-a0cf-45b8-bfb6-a041a906650c button.colab-df-convert');\n",
       "      buttonEl.style.display =\n",
       "        google.colab.kernel.accessAllowed ? 'block' : 'none';\n",
       "\n",
       "      async function convertToInteractive(key) {\n",
       "        const element = document.querySelector('#df-31dadb95-a0cf-45b8-bfb6-a041a906650c');\n",
       "        const dataTable =\n",
       "          await google.colab.kernel.invokeFunction('convertToInteractive',\n",
       "                                                    [key], {});\n",
       "        if (!dataTable) return;\n",
       "\n",
       "        const docLinkHtml = 'Like what you see? Visit the ' +\n",
       "          '<a target=\"_blank\" href=https://colab.research.google.com/notebooks/data_table.ipynb>data table notebook</a>'\n",
       "          + ' to learn more about interactive tables.';\n",
       "        element.innerHTML = '';\n",
       "        dataTable['output_type'] = 'display_data';\n",
       "        await google.colab.output.renderOutput(dataTable, element);\n",
       "        const docLink = document.createElement('div');\n",
       "        docLink.innerHTML = docLinkHtml;\n",
       "        element.appendChild(docLink);\n",
       "      }\n",
       "    </script>\n",
       "  </div>\n",
       "\n",
       "\n",
       "<div id=\"df-ef0dbeeb-3625-491b-9220-56ebbf1afb5c\">\n",
       "  <button class=\"colab-df-quickchart\" onclick=\"quickchart('df-ef0dbeeb-3625-491b-9220-56ebbf1afb5c')\"\n",
       "            title=\"Suggest charts\"\n",
       "            style=\"display:none;\">\n",
       "\n",
       "<svg xmlns=\"http://www.w3.org/2000/svg\" height=\"24px\"viewBox=\"0 0 24 24\"\n",
       "     width=\"24px\">\n",
       "    <g>\n",
       "        <path d=\"M19 3H5c-1.1 0-2 .9-2 2v14c0 1.1.9 2 2 2h14c1.1 0 2-.9 2-2V5c0-1.1-.9-2-2-2zM9 17H7v-7h2v7zm4 0h-2V7h2v10zm4 0h-2v-4h2v4z\"/>\n",
       "    </g>\n",
       "</svg>\n",
       "  </button>\n",
       "\n",
       "<style>\n",
       "  .colab-df-quickchart {\n",
       "      --bg-color: #E8F0FE;\n",
       "      --fill-color: #1967D2;\n",
       "      --hover-bg-color: #E2EBFA;\n",
       "      --hover-fill-color: #174EA6;\n",
       "      --disabled-fill-color: #AAA;\n",
       "      --disabled-bg-color: #DDD;\n",
       "  }\n",
       "\n",
       "  [theme=dark] .colab-df-quickchart {\n",
       "      --bg-color: #3B4455;\n",
       "      --fill-color: #D2E3FC;\n",
       "      --hover-bg-color: #434B5C;\n",
       "      --hover-fill-color: #FFFFFF;\n",
       "      --disabled-bg-color: #3B4455;\n",
       "      --disabled-fill-color: #666;\n",
       "  }\n",
       "\n",
       "  .colab-df-quickchart {\n",
       "    background-color: var(--bg-color);\n",
       "    border: none;\n",
       "    border-radius: 50%;\n",
       "    cursor: pointer;\n",
       "    display: none;\n",
       "    fill: var(--fill-color);\n",
       "    height: 32px;\n",
       "    padding: 0;\n",
       "    width: 32px;\n",
       "  }\n",
       "\n",
       "  .colab-df-quickchart:hover {\n",
       "    background-color: var(--hover-bg-color);\n",
       "    box-shadow: 0 1px 2px rgba(60, 64, 67, 0.3), 0 1px 3px 1px rgba(60, 64, 67, 0.15);\n",
       "    fill: var(--button-hover-fill-color);\n",
       "  }\n",
       "\n",
       "  .colab-df-quickchart-complete:disabled,\n",
       "  .colab-df-quickchart-complete:disabled:hover {\n",
       "    background-color: var(--disabled-bg-color);\n",
       "    fill: var(--disabled-fill-color);\n",
       "    box-shadow: none;\n",
       "  }\n",
       "\n",
       "  .colab-df-spinner {\n",
       "    border: 2px solid var(--fill-color);\n",
       "    border-color: transparent;\n",
       "    border-bottom-color: var(--fill-color);\n",
       "    animation:\n",
       "      spin 1s steps(1) infinite;\n",
       "  }\n",
       "\n",
       "  @keyframes spin {\n",
       "    0% {\n",
       "      border-color: transparent;\n",
       "      border-bottom-color: var(--fill-color);\n",
       "      border-left-color: var(--fill-color);\n",
       "    }\n",
       "    20% {\n",
       "      border-color: transparent;\n",
       "      border-left-color: var(--fill-color);\n",
       "      border-top-color: var(--fill-color);\n",
       "    }\n",
       "    30% {\n",
       "      border-color: transparent;\n",
       "      border-left-color: var(--fill-color);\n",
       "      border-top-color: var(--fill-color);\n",
       "      border-right-color: var(--fill-color);\n",
       "    }\n",
       "    40% {\n",
       "      border-color: transparent;\n",
       "      border-right-color: var(--fill-color);\n",
       "      border-top-color: var(--fill-color);\n",
       "    }\n",
       "    60% {\n",
       "      border-color: transparent;\n",
       "      border-right-color: var(--fill-color);\n",
       "    }\n",
       "    80% {\n",
       "      border-color: transparent;\n",
       "      border-right-color: var(--fill-color);\n",
       "      border-bottom-color: var(--fill-color);\n",
       "    }\n",
       "    90% {\n",
       "      border-color: transparent;\n",
       "      border-bottom-color: var(--fill-color);\n",
       "    }\n",
       "  }\n",
       "</style>\n",
       "\n",
       "  <script>\n",
       "    async function quickchart(key) {\n",
       "      const quickchartButtonEl =\n",
       "        document.querySelector('#' + key + ' button');\n",
       "      quickchartButtonEl.disabled = true;  // To prevent multiple clicks.\n",
       "      quickchartButtonEl.classList.add('colab-df-spinner');\n",
       "      try {\n",
       "        const charts = await google.colab.kernel.invokeFunction(\n",
       "            'suggestCharts', [key], {});\n",
       "      } catch (error) {\n",
       "        console.error('Error during call to suggestCharts:', error);\n",
       "      }\n",
       "      quickchartButtonEl.classList.remove('colab-df-spinner');\n",
       "      quickchartButtonEl.classList.add('colab-df-quickchart-complete');\n",
       "    }\n",
       "    (() => {\n",
       "      let quickchartButtonEl =\n",
       "        document.querySelector('#df-ef0dbeeb-3625-491b-9220-56ebbf1afb5c button');\n",
       "      quickchartButtonEl.style.display =\n",
       "        google.colab.kernel.accessAllowed ? 'block' : 'none';\n",
       "    })();\n",
       "  </script>\n",
       "</div>\n",
       "    </div>\n",
       "  </div>\n"
      ],
      "text/plain": [
       "                                      title  \\\n",
       "0                                    Avatar   \n",
       "1  Pirates of the Caribbean: At World's End   \n",
       "\n",
       "                                          tagline  \\\n",
       "0                     Enter the World of Pandora.   \n",
       "1  At the end of the world, the adventure begins.   \n",
       "\n",
       "                                            overview  \\\n",
       "0  In the 22nd century, a paraplegic Marine is di...   \n",
       "1  Captain Barbossa, long believed to be dead, ha...   \n",
       "\n",
       "                                              genres  popularity  \\\n",
       "0  [{\"id\": 28, \"name\": \"Action\"}, {\"id\": 12, \"nam...  150.437577   \n",
       "1  [{\"id\": 12, \"name\": \"Adventure\"}, {\"id\": 14, \"...  139.082615   \n",
       "\n",
       "                                         description  \n",
       "0  Enter the World of Pandora. In the 22nd centur...  \n",
       "1  At the end of the world, the adventure begins....  "
      ]
     },
     "execution_count": 18,
     "metadata": {},
     "output_type": "execute_result"
    }
   ],
   "source": [
    "## LSA, PCA, LSA & PCA, Word2Vec\n",
    "# all necessary imports\n",
    "import pandas as pd\n",
    "from sklearn.feature_extraction.text import TfidfVectorizer\n",
    "from sklearn.decomposition import TruncatedSVD, PCA\n",
    "from sklearn.metrics.pairwise import cosine_similarity\n",
    "from nltk.corpus import stopwords\n",
    "from nltk.tokenize import casual_tokenize\n",
    "import nltk\n",
    "import contractions\n",
    "import re\n",
    "import spacy\n",
    "from gensim.models import Word2Vec\n",
    "import numpy as np\n",
    "nlp = spacy.load(\"en_core_web_sm\")\n",
    "nltk.download('stopwords')\n",
    "nltk.download('punkt')\n",
    "import matplotlib.pyplot as plt\n",
    "import seaborn as sns\n",
    "\n",
    "# Function to plot a bar chart for movie similarities without x-axis labels\n",
    "def plot_similarity_chart_no_labels(similarities, method_name):\n",
    "    plt.figure(figsize=(10, 6))\n",
    "    sns.barplot(x=similarities.index, y=similarities.values, palette=\"viridis\")\n",
    "    plt.title(f\"Similarity Scores using {method_name}\")\n",
    "    plt.xlabel(\"\")\n",
    "    plt.ylabel(\"Similarity Score\")\n",
    "    plt.xticks([])  # Remove x-axis labels\n",
    "    plt.tight_layout()\n",
    "    # Print the ID at the bottom in black\n",
    "    for i, title in enumerate(similarities.index, start=1):\n",
    "        if i % 100 == 0:\n",
    "            plt.text(i - 1, 0, str(i), ha='center', va='bottom', rotation=45, color='black', fontsize=8)\n",
    "\n",
    "    plt.show()\n",
    "\n",
    "\n",
    "# Read the dataset\n",
    "df = pd.read_csv('tmdb_5000_movies.csv')\n",
    "df = df[['title', 'tagline', 'overview', 'genres', 'popularity']]\n",
    "df.tagline.fillna(value=\"\", inplace=True)\n",
    "df['description'] = df['tagline'].map(str) + ' ' + df['overview']\n",
    "# Fill NaN values in the 'overview' column with an empty string\n",
    "df['overview'].fillna(value='', inplace=True)\n",
    "df.head(2)"
   ]
  },
  {
   "cell_type": "markdown",
   "metadata": {
    "id": "XlnnUU0X9Ej7"
   },
   "source": [
    "## LSA and PCA methods without pre-processing<a class=\"anchor\" id=\"similar_without_preproc\" name=\"similar_without_preproc\"></a>"
   ]
  },
  {
   "cell_type": "markdown",
   "metadata": {
    "id": "_7kF9ZhU8AdD"
   },
   "source": [
    "Now let's try to find similar films for the first film on the list - Avatar, WITHOUT using pre-processing and see what we'll got."
   ]
  },
  {
   "cell_type": "code",
   "execution_count": null,
   "metadata": {
    "colab": {
     "base_uri": "https://localhost:8080/",
     "height": 1000
    },
    "id": "WD6aitn-64XN",
    "outputId": "f52ec551-479b-4771-9258-1941101cb66a"
   },
   "outputs": [
    {
     "name": "stderr",
     "output_type": "stream",
     "text": [
      "/usr/local/lib/python3.10/dist-packages/sklearn/feature_extraction/text.py:528: UserWarning: The parameter 'token_pattern' will not be used since 'tokenizer' is not None'\n",
      "  warnings.warn(\n"
     ]
    },
    {
     "name": "stdout",
     "output_type": "stream",
     "text": [
      "\n",
      "Similar movies using LSA:\n",
      "                      title  similarity\n",
      "0                    Avatar    1.000000\n",
      "2796  The Prisoner of Zenda    0.956195\n",
      "1377                Species    0.955670\n",
      "3815           Major Dundee    0.955369\n",
      "1817          The Bodyguard    0.945835\n",
      "\n",
      "Similar movies using PCA:\n",
      "                      title  similarity\n",
      "0                    Avatar    1.000000\n",
      "1377                Species    0.890913\n",
      "4261                Shalako    0.871700\n",
      "2796  The Prisoner of Zenda    0.871591\n",
      "2650    All The Queen's Men    0.870764\n",
      "Similar movies using both LSA and PCA:\n",
      "                      title  combined_similarity\n",
      "0                    Avatar             1.000000\n",
      "1377                Species             0.923292\n",
      "2796  The Prisoner of Zenda             0.913893\n",
      "2650    All The Queen's Men             0.905748\n",
      "4261                Shalako             0.897803\n"
     ]
    },
    {
     "data": {
      "image/png": "[encoded data removed]",
      "text/plain": [
       "<Figure size 1000x600 with 1 Axes>"
      ]
     },
     "metadata": {},
     "output_type": "display_data"
    }
   ],
   "source": [
    "## LSA, PCA, LSA & PCA WITHOUT pre-processing\n",
    "\n",
    "# Create TF-IDF matrix\n",
    "tfidf = TfidfVectorizer(tokenizer=casual_tokenize)\n",
    "tfidf_docs = tfidf.fit_transform(raw_documents=df.overview).toarray()\n",
    "# Apply LSA using TruncatedSVD\n",
    "lsa = TruncatedSVD(n_components=16)\n",
    "lsa_topic_vectors = lsa.fit_transform(tfidf_docs)\n",
    "# Apply PCA\n",
    "pca = PCA(n_components=16)\n",
    "pca_topic_vectors = pca.fit_transform(tfidf_docs)\n",
    "\n",
    "# Function to find similar movies\n",
    "def find_similar_movies(movie_index, vectors, method='cosine'):\n",
    "    similarity_matrix = cosine_similarity([vectors[movie_index]], vectors)\n",
    "    similar_movies = df[['title', 'overview']].copy()\n",
    "    similar_movies['similarity'] = similarity_matrix[0]\n",
    "    similar_movies = similar_movies.sort_values(by='similarity', ascending=False)\n",
    "    return similar_movies\n",
    "\n",
    "# Function to find similar movies using both LSA and PCA\n",
    "def find_similar_movies_LSA_and_PCA(movie_index, lsa_vectors, pca_vectors):\n",
    "    lsa_similarity_matrix = cosine_similarity([lsa_vectors[movie_index]], lsa_vectors)\n",
    "    pca_similarity_matrix = cosine_similarity([pca_vectors[movie_index]], pca_vectors)\n",
    "    # Combine the results by taking the average similarity score\n",
    "    combined_similarity = (lsa_similarity_matrix + pca_similarity_matrix) / 2\n",
    "    similar_movies = df[['title', 'overview']].copy()\n",
    "    similar_movies['combined_similarity'] = combined_similarity[0]\n",
    "    similar_movies = similar_movies.sort_values(by='combined_similarity', ascending=False)\n",
    "    return similar_movies\n",
    "\n",
    "# Choose a movie index to find similar movies\n",
    "movie_index = 0\n",
    "\n",
    "# Find similar movies using LSA\n",
    "similar_movies_lsa = find_similar_movies(movie_index, lsa_topic_vectors)\n",
    "print(\"\\nSimilar movies using LSA:\")\n",
    "print(similar_movies_lsa[['title', 'similarity']].head(5))\n",
    "\n",
    "# Find similar movies using PCA\n",
    "similar_movies_pca = find_similar_movies(movie_index, pca_topic_vectors)\n",
    "print(\"\\nSimilar movies using PCA:\")\n",
    "print(similar_movies_pca[['title', 'similarity']].head(5))\n",
    "\n",
    "# Find similar movies using both LSA and PCA\n",
    "similar_movies_combined = find_similar_movies_LSA_and_PCA(movie_index, lsa_topic_vectors, pca_topic_vectors)\n",
    "print(\"Similar movies using both LSA and PCA:\")\n",
    "print(similar_movies_combined[['title', 'combined_similarity']].head(5))\n",
    "\n",
    "all_combined_similarities = similar_movies_combined[['title', 'combined_similarity']].set_index('title')['combined_similarity']\n",
    "# Plot the bar chart for both methods without x-axis labels\n",
    "plot_similarity_chart_no_labels(all_combined_similarities, \"LSA and PCA without Pre-processing\")"
   ]
  },
  {
   "cell_type": "markdown",
   "metadata": {
    "id": "WH_FdSME9iDz"
   },
   "source": [
    "## LSA and PCA methods with pre-processing<a class=\"anchor\" id=\"similar_with_preproc\" name=\"similar_with_preproc\"></a>"
   ]
  },
  {
   "cell_type": "markdown",
   "metadata": {
    "id": "JeRslDAQ8w0M"
   },
   "source": [
    "This is the result we get using pre-processing:"
   ]
  },
  {
   "cell_type": "code",
   "execution_count": null,
   "metadata": {
    "colab": {
     "base_uri": "https://localhost:8080/",
     "height": 974
    },
    "id": "28X1dbO17B77",
    "outputId": "a234d031-2540-47c6-f11f-c44edfb183ed"
   },
   "outputs": [
    {
     "name": "stderr",
     "output_type": "stream",
     "text": [
      "/usr/local/lib/python3.10/dist-packages/sklearn/feature_extraction/text.py:528: UserWarning: The parameter 'token_pattern' will not be used since 'tokenizer' is not None'\n",
      "  warnings.warn(\n"
     ]
    },
    {
     "name": "stdout",
     "output_type": "stream",
     "text": [
      "\n",
      "Similar movies using LSA:\n",
      "                      title  similarity\n",
      "0                    Avatar    1.000000\n",
      "320         Black Hawk Down    0.975823\n",
      "157  Exodus: Gods and Kings    0.973134\n",
      "291       National Treasure    0.948996\n",
      "768                  Priest    0.939105\n",
      "\n",
      "Similar movies using PCA:\n",
      "                              title  similarity\n",
      "0                            Avatar    1.000000\n",
      "291               National Treasure    0.918275\n",
      "3568   20,000 Leagues Under the Sea    0.898312\n",
      "1367  Star Trek: The Motion Picture    0.888919\n",
      "1101                     Foodfight!    0.877429\n",
      "Similar movies using both LSA and PCA:\n",
      "                             title  combined_similarity\n",
      "0                           Avatar             1.000000\n",
      "291              National Treasure             0.933636\n",
      "320                Black Hawk Down             0.917675\n",
      "3568  20,000 Leagues Under the Sea             0.901894\n",
      "2899            Legend of a Rabbit             0.898812\n"
     ]
    },
    {
     "data": {
      "image/png": "[encoded data removed]",
      "text/plain": [
       "<Figure size 1000x600 with 1 Axes>"
      ]
     },
     "metadata": {},
     "output_type": "display_data"
    }
   ],
   "source": [
    "## LSA, PCA, LSA & PCA WITH pre-processing\n",
    "stop_words = set(stopwords.words('english'))\n",
    "\n",
    "def remove_possessive_endings(text):\n",
    "    text = re.sub(r\"'s\\b\", \"\", text)\n",
    "    return text\n",
    "\n",
    "def lemmatize(text):\n",
    "    doc = nlp(text)\n",
    "    # Lemmatize each token and join them back into a string\n",
    "    lemmatized_text = ' '.join([token.lemma_ for token in doc])\n",
    "    return lemmatized_text\n",
    "\n",
    "##                          pre-processing\n",
    "def process_text(text):\n",
    "    # Remove possessive endings\n",
    "    text = remove_possessive_endings(text)\n",
    "\n",
    "    # Expand contractions\n",
    "    expanded_text = contractions.fix(text)\n",
    "\n",
    "    # Remove stopwords\n",
    "    words = casual_tokenize(expanded_text)\n",
    "    filtered_words = [word.lower() for word in words if word.lower() not in stop_words]\n",
    "\n",
    "     # Lemmatize the text\n",
    "    lemmatized_text = lemmatize(\" \".join(filtered_words))\n",
    "    return lemmatized_text\n",
    "\n",
    "\n",
    "# Apply the process_text function to the 'overview' column\n",
    "df['processed_overview'] = df['overview'].apply(process_text)\n",
    "\n",
    "\n",
    "# Create TF-IDF matrix\n",
    "tfidf = TfidfVectorizer(tokenizer=casual_tokenize)\n",
    "tfidf_docs = tfidf.fit_transform(raw_documents=df.processed_overview).toarray()\n",
    "# Apply LSA using TruncatedSVD\n",
    "lsa = TruncatedSVD(n_components=16)\n",
    "lsa_topic_vectors = lsa.fit_transform(tfidf_docs)\n",
    "# Apply PCA\n",
    "pca = PCA(n_components=16)\n",
    "pca_topic_vectors = pca.fit_transform(tfidf_docs)\n",
    "\n",
    "# Choose a movie index to find similar movies\n",
    "movie_index = 0\n",
    "\n",
    "# Find similar movies using LSA\n",
    "similar_movies_lsa = find_similar_movies(movie_index, lsa_topic_vectors)\n",
    "print(\"\\nSimilar movies using LSA:\")\n",
    "print(similar_movies_lsa[['title', 'similarity']].head(5))\n",
    "\n",
    "# Find similar movies using PCA\n",
    "similar_movies_pca = find_similar_movies(movie_index, pca_topic_vectors)\n",
    "print(\"\\nSimilar movies using PCA:\")\n",
    "print(similar_movies_pca[['title', 'similarity']].head(5))\n",
    "\n",
    "# Find similar movies using both LSA and PCA\n",
    "similar_movies_combined = find_similar_movies_LSA_and_PCA(movie_index, lsa_topic_vectors, pca_topic_vectors)\n",
    "print(\"Similar movies using both LSA and PCA:\")\n",
    "print(similar_movies_combined[['title', 'combined_similarity']].head(5))\n",
    "\n",
    "all_combined_similarities = similar_movies_combined[['title', 'combined_similarity']].set_index('title')['combined_similarity']\n",
    "plot_similarity_chart_no_labels(all_combined_similarities, \"LSA and PCA with Pre-processing\")"
   ]
  },
  {
   "cell_type": "code",
   "execution_count": null,
   "metadata": {
    "colab": {
     "base_uri": "https://localhost:8080/",
     "height": 801
    },
    "id": "T1j-KjpBD18U",
    "outputId": "1c6405f9-85bd-4666-e32b-68ae5c5a3461"
   },
   "outputs": [
    {
     "name": "stderr",
     "output_type": "stream",
     "text": [
      "/usr/local/lib/python3.10/dist-packages/sklearn/feature_extraction/text.py:528: UserWarning: The parameter 'token_pattern' will not be used since 'tokenizer' is not None'\n",
      "  warnings.warn(\n"
     ]
    },
    {
     "name": "stdout",
     "output_type": "stream",
     "text": [
      "\n",
      "Similar movies using LSA:\n",
      "                       title  similarity\n",
      "0                     Avatar    1.000000\n",
      "1510                    1941    0.965534\n",
      "157   Exodus: Gods and Kings    0.951718\n",
      "320          Black Hawk Down    0.951314\n",
      "529         Tears of the Sun    0.949801\n"
     ]
    },
    {
     "data": {
      "image/png": "[encoded data removed]",
      "text/plain": [
       "<Figure size 1000x600 with 1 Axes>"
      ]
     },
     "metadata": {},
     "output_type": "display_data"
    }
   ],
   "source": [
    "## LSA WITH pre-processing\n",
    "stop_words = set(stopwords.words('english'))\n",
    "\n",
    "def remove_possessive_endings(text):\n",
    "    text = re.sub(r\"'s\\b\", \"\", text)\n",
    "    return text\n",
    "\n",
    "def lemmatize(text):\n",
    "    doc = nlp(text)\n",
    "    # Lemmatize each token and join them back into a string\n",
    "    lemmatized_text = ' '.join([token.lemma_ for token in doc])\n",
    "    return lemmatized_text\n",
    "\n",
    "##                          pre-processing\n",
    "def process_text(text):\n",
    "    # Remove possessive endings\n",
    "    text = remove_possessive_endings(text)\n",
    "\n",
    "    # Expand contractions\n",
    "    expanded_text = contractions.fix(text)\n",
    "\n",
    "    # Remove stopwords\n",
    "    words = casual_tokenize(expanded_text)\n",
    "    filtered_words = [word.lower() for word in words if word.lower() not in stop_words]\n",
    "\n",
    "     # Lemmatize the text\n",
    "    lemmatized_text = lemmatize(\" \".join(filtered_words))\n",
    "    return lemmatized_text\n",
    "\n",
    "\n",
    "# Apply the process_text function to the 'overview' column\n",
    "df['processed_overview'] = df['overview'].apply(process_text)\n",
    "\n",
    "\n",
    "# Create TF-IDF matrix\n",
    "tfidf = TfidfVectorizer(tokenizer=casual_tokenize)\n",
    "tfidf_docs = tfidf.fit_transform(raw_documents=df.processed_overview).toarray()\n",
    "# Apply LSA using TruncatedSVD\n",
    "lsa = TruncatedSVD(n_components=16)\n",
    "lsa_topic_vectors = lsa.fit_transform(tfidf_docs)\n",
    "# Apply PCA\n",
    "pca = PCA(n_components=16)\n",
    "pca_topic_vectors = pca.fit_transform(tfidf_docs)\n",
    "\n",
    "# Choose a movie index to find similar movies\n",
    "movie_index = 0\n",
    "\n",
    "# Find similar movies using LSA\n",
    "similar_movies_lsa = find_similar_movies(movie_index, lsa_topic_vectors)\n",
    "print(\"\\nSimilar movies using LSA:\")\n",
    "print(similar_movies_lsa[['title', 'similarity']].head(5))\n",
    "\n",
    "lsa_similarity = similar_movies_lsa[['title', 'similarity']].set_index('title')['similarity']\n",
    "plot_similarity_chart_no_labels(lsa_similarity, \"LSA with Pre-processing\")"
   ]
  },
  {
   "cell_type": "markdown",
   "metadata": {
    "id": "z0zA2YsvXIqV"
   },
   "source": [
    "## Word2Vec method with pre-processing <a class=\"anchor\" id=\"word2Vec_with_preproc\" name=\"word2Vec_with_preproc\"></a>"
   ]
  },
  {
   "cell_type": "markdown",
   "metadata": {
    "id": "a1Nw_bAXYRfG"
   },
   "source": [
    "Using previous code for pre-processing let's try Word2Vec method this time and check the results:"
   ]
  },
  {
   "cell_type": "code",
   "execution_count": null,
   "metadata": {
    "colab": {
     "base_uri": "https://localhost:8080/",
     "height": 714
    },
    "id": "jvj19QJRXOVu",
    "outputId": "784c5849-53f0-4e50-d0c7-6f64e49d980e"
   },
   "outputs": [
    {
     "name": "stderr",
     "output_type": "stream",
     "text": [
      "/usr/local/lib/python3.10/dist-packages/sklearn/feature_extraction/text.py:528: UserWarning: The parameter 'token_pattern' will not be used since 'tokenizer' is not None'\n",
      "  warnings.warn(\n"
     ]
    },
    {
     "name": "stdout",
     "output_type": "stream",
     "text": [
      "\n",
      "Similar movies using Word2Vec:\n",
      "                           title  similarity\n",
      "0                         Avatar    1.000000\n",
      "1790  O Brother, Where Art Thou?    0.982670\n",
      "634                   The Matrix    0.982631\n",
      "1643             Howard the Duck    0.982597\n",
      "3394                    Freeheld    0.982178\n"
     ]
    },
    {
     "data": {
      "image/png": "[encoded data removed]",
      "text/plain": [
       "<Figure size 1000x600 with 1 Axes>"
      ]
     },
     "metadata": {},
     "output_type": "display_data"
    }
   ],
   "source": [
    "import pandas as pd\n",
    "from sklearn.feature_extraction.text import TfidfVectorizer\n",
    "from sklearn.decomposition import TruncatedSVD, PCA\n",
    "from sklearn.metrics.pairwise import cosine_similarity\n",
    "from nltk.tokenize import casual_tokenize\n",
    "from gensim.models import Word2Vec\n",
    "stop_words = set(stopwords.words('english'))\n",
    "\n",
    "def remove_possessive_endings(text):\n",
    "    text = re.sub(r\"'s\\b\", \"\", text)\n",
    "    return text\n",
    "\n",
    "def lemmatize(text):\n",
    "    doc = nlp(text)\n",
    "    # Lemmatize each token and join them back into a string\n",
    "    lemmatized_text = ' '.join([token.lemma_ for token in doc])\n",
    "    return lemmatized_text\n",
    "\n",
    "##                          pre-processing\n",
    "def process_text(text):\n",
    "    # Remove possessive endings\n",
    "    text = remove_possessive_endings(text)\n",
    "\n",
    "    # Expand contractions\n",
    "    expanded_text = contractions.fix(text)\n",
    "\n",
    "    # Remove stopwords\n",
    "    words = casual_tokenize(expanded_text)\n",
    "    filtered_words = [word.lower() for word in words if word.lower() not in stop_words]\n",
    "\n",
    "     # Lemmatize the text\n",
    "    lemmatized_text = lemmatize(\" \".join(filtered_words))\n",
    "    return lemmatized_text\n",
    "\n",
    "\n",
    "# Apply the process_text function to the 'overview' column\n",
    "overview = df['overview'].apply(process_text)\n",
    "overview = df.overview.apply(casual_tokenize)\n",
    "\n",
    "# Train Word2Vec model\n",
    "word2vec_model = Word2Vec(\n",
    "    window=5,\n",
    "    min_count=2,\n",
    "    workers=4\n",
    ")\n",
    "word2vec_model.build_vocab(overview, progress_per=1000)\n",
    "word2vec_model.train(overview, total_examples=word2vec_model.corpus_count, epochs=word2vec_model.epochs)\n",
    "\n",
    "# Create TF-IDF matrix\n",
    "tfidf = TfidfVectorizer(tokenizer=casual_tokenize)\n",
    "tfidf_docs = tfidf.fit_transform(raw_documents=df.overview).toarray()\n",
    "\n",
    "# Apply LSA using TruncatedSVD\n",
    "lsa = TruncatedSVD(n_components=16)\n",
    "lsa_topic_vectors = lsa.fit_transform(tfidf_docs)\n",
    "\n",
    "# Apply PCA\n",
    "pca = PCA(n_components=16)\n",
    "pca_topic_vectors = pca.fit_transform(tfidf_docs)\n",
    "\n",
    "# Function to find similar movies using Word2Vec\n",
    "def find_similar_movies_word2vec(movie_index, model, df):\n",
    "    # Get the vector representation of the movie\n",
    "    movie_vector = model.wv[movie_index]\n",
    "\n",
    "    # Calculate cosine similarity between the movie and all others\n",
    "    similarity_scores = cosine_similarity([movie_vector], model.wv[df.index])\n",
    "\n",
    "    # Create a DataFrame with movie indices and similarity scores\n",
    "    similar_movies = df[['title', 'overview']].copy()\n",
    "    similar_movies['similarity'] = similarity_scores[0]\n",
    "\n",
    "    # Sort the DataFrame by similarity in descending order\n",
    "    similar_movies = similar_movies.sort_values(by='similarity', ascending=False)\n",
    "\n",
    "    return similar_movies\n",
    "\n",
    "# Choose a movie index to find similar movies\n",
    "movie_index = df.index[0]\n",
    "\n",
    "# Find similar movies using Word2Vec\n",
    "similar_movies_word2vec = find_similar_movies_word2vec(movie_index, word2vec_model, df)\n",
    "print(\"\\nSimilar movies using Word2Vec:\")\n",
    "print(similar_movies_word2vec[['title', 'similarity']].head(5))\n",
    "\n",
    "\n",
    "x = similar_movies_word2vec[['title', 'similarity']].set_index('title')['similarity']\n",
    "plot_similarity_chart_no_labels(x, \"word2Vec with Pre-processing\")"
   ]
  },
  {
   "cell_type": "markdown",
   "metadata": {
    "id": "G6u0wOKPHLwn"
   },
   "source": [
    "several examples using word2Vec:"
   ]
  },
  {
   "cell_type": "code",
   "execution_count": null,
   "metadata": {
    "colab": {
     "base_uri": "https://localhost:8080/"
    },
    "id": "-n6_hQtzHLgY",
    "outputId": "cc19960b-6ce9-4c05-d2c3-f0809dc540c0"
   },
   "outputs": [
    {
     "data": {
      "text/plain": [
       "0.7511802"
      ]
     },
     "execution_count": 10,
     "metadata": {},
     "output_type": "execute_result"
    }
   ],
   "source": [
    "#similarity of Avatar and Pirates of the Caribbean: At World's End\n",
    "word2vec_model.wv.similarity(w1=0,w2=1)"
   ]
  },
  {
   "cell_type": "code",
   "execution_count": null,
   "metadata": {
    "colab": {
     "base_uri": "https://localhost:8080/"
    },
    "id": "AM405EoIIOXv",
    "outputId": "8e1e4a6e-ca92-4c45-dd7b-7a935d480e23"
   },
   "outputs": [
    {
     "data": {
      "text/plain": [
       "0.8210188"
      ]
     },
     "execution_count": 39,
     "metadata": {},
     "output_type": "execute_result"
    }
   ],
   "source": [
    "# similarity of Pirates of the Caribbean: At World's End and The Matrix\n",
    "word2vec_model.wv.similarity(w1=1,w2=634)"
   ]
  },
  {
   "cell_type": "markdown",
   "metadata": {
    "id": "yzT2GVV8Y4Hv"
   },
   "source": [
    "----------------------------------------------------\n",
    "other examples of finding best mathces in movie database:\n",
    "----------------------------------------------------"
   ]
  },
  {
   "cell_type": "code",
   "execution_count": null,
   "metadata": {
    "id": "5xdNdCej_AeD"
   },
   "outputs": [],
   "source": [
    "def movie_recommender(movie_title, movies=movies_list, doc_sims=doc_sim_df):\n",
    " movie_idx = np.where(movies == movie_title)[0][0]\n",
    " movie_similarities = doc_sims.iloc[movie_idx].values\n",
    " # get top 5 similar movie IDs\n",
    " similar_movie_idxs = np.argsort(-movie_similarities)[1:6]\n",
    " # get top 5 movies\n",
    " similar_movies = movies[similar_movie_idxs]\n",
    " return similar_movies"
   ]
  },
  {
   "cell_type": "code",
   "execution_count": null,
   "metadata": {
    "colab": {
     "base_uri": "https://localhost:8080/",
     "height": 380
    },
    "id": "EtZ0KTIe_Djq",
    "outputId": "ef1cce00-eb32-44d1-ebfd-f73747079f00"
   },
   "outputs": [
    {
     "data": {
      "text/html": [
       "\n",
       "  <div id=\"df-ec30ba36-8b1e-4516-b41d-edfda8057f71\" class=\"colab-df-container\">\n",
       "    <div>\n",
       "<style scoped>\n",
       "    .dataframe tbody tr th:only-of-type {\n",
       "        vertical-align: middle;\n",
       "    }\n",
       "\n",
       "    .dataframe tbody tr th {\n",
       "        vertical-align: top;\n",
       "    }\n",
       "\n",
       "    .dataframe thead th {\n",
       "        text-align: right;\n",
       "    }\n",
       "</style>\n",
       "<table border=\"1\" class=\"dataframe\">\n",
       "  <thead>\n",
       "    <tr style=\"text-align: right;\">\n",
       "      <th></th>\n",
       "      <th>title</th>\n",
       "      <th>tagline</th>\n",
       "      <th>overview</th>\n",
       "      <th>genres</th>\n",
       "      <th>popularity</th>\n",
       "      <th>description</th>\n",
       "    </tr>\n",
       "  </thead>\n",
       "  <tbody>\n",
       "    <tr>\n",
       "      <th>546</th>\n",
       "      <td>Minions</td>\n",
       "      <td>Before Gru, they had a history of bad bosses</td>\n",
       "      <td>Minions Stuart, Kevin and Bob are recruited by...</td>\n",
       "      <td>[{\"id\": 10751, \"name\": \"Family\"}, {\"id\": 16, \"...</td>\n",
       "      <td>875.581305</td>\n",
       "      <td>Before Gru, they had a history of bad bosses M...</td>\n",
       "    </tr>\n",
       "    <tr>\n",
       "      <th>95</th>\n",
       "      <td>Interstellar</td>\n",
       "      <td>Mankind was born on Earth. It was never meant ...</td>\n",
       "      <td>Interstellar chronicles the adventures of a gr...</td>\n",
       "      <td>[{\"id\": 12, \"name\": \"Adventure\"}, {\"id\": 18, \"...</td>\n",
       "      <td>724.247784</td>\n",
       "      <td>Mankind was born on Earth. It was never meant ...</td>\n",
       "    </tr>\n",
       "    <tr>\n",
       "      <th>788</th>\n",
       "      <td>Deadpool</td>\n",
       "      <td>Witness the beginning of a happy ending</td>\n",
       "      <td>Deadpool tells the origin story of former Spec...</td>\n",
       "      <td>[{\"id\": 28, \"name\": \"Action\"}, {\"id\": 12, \"nam...</td>\n",
       "      <td>514.569956</td>\n",
       "      <td>Witness the beginning of a happy ending Deadpo...</td>\n",
       "    </tr>\n",
       "    <tr>\n",
       "      <th>94</th>\n",
       "      <td>Guardians of the Galaxy</td>\n",
       "      <td>All heroes start somewhere.</td>\n",
       "      <td>Light years from Earth, 26 years after being a...</td>\n",
       "      <td>[{\"id\": 28, \"name\": \"Action\"}, {\"id\": 878, \"na...</td>\n",
       "      <td>481.098624</td>\n",
       "      <td>All heroes start somewhere. Light years from E...</td>\n",
       "    </tr>\n",
       "    <tr>\n",
       "      <th>127</th>\n",
       "      <td>Mad Max: Fury Road</td>\n",
       "      <td>What a Lovely Day.</td>\n",
       "      <td>An apocalyptic story set in the furthest reach...</td>\n",
       "      <td>[{\"id\": 28, \"name\": \"Action\"}, {\"id\": 12, \"nam...</td>\n",
       "      <td>434.278564</td>\n",
       "      <td>What a Lovely Day. An apocalyptic story set in...</td>\n",
       "    </tr>\n",
       "  </tbody>\n",
       "</table>\n",
       "</div>\n",
       "    <div class=\"colab-df-buttons\">\n",
       "\n",
       "  <div class=\"colab-df-container\">\n",
       "    <button class=\"colab-df-convert\" onclick=\"convertToInteractive('df-ec30ba36-8b1e-4516-b41d-edfda8057f71')\"\n",
       "            title=\"Convert this dataframe to an interactive table.\"\n",
       "            style=\"display:none;\">\n",
       "\n",
       "  <svg xmlns=\"http://www.w3.org/2000/svg\" height=\"24px\" viewBox=\"0 -960 960 960\">\n",
       "    <path d=\"M120-120v-720h720v720H120Zm60-500h600v-160H180v160Zm220 220h160v-160H400v160Zm0 220h160v-160H400v160ZM180-400h160v-160H180v160Zm440 0h160v-160H620v160ZM180-180h160v-160H180v160Zm440 0h160v-160H620v160Z\"/>\n",
       "  </svg>\n",
       "    </button>\n",
       "\n",
       "  <style>\n",
       "    .colab-df-container {\n",
       "      display:flex;\n",
       "      gap: 12px;\n",
       "    }\n",
       "\n",
       "    .colab-df-convert {\n",
       "      background-color: #E8F0FE;\n",
       "      border: none;\n",
       "      border-radius: 50%;\n",
       "      cursor: pointer;\n",
       "      display: none;\n",
       "      fill: #1967D2;\n",
       "      height: 32px;\n",
       "      padding: 0 0 0 0;\n",
       "      width: 32px;\n",
       "    }\n",
       "\n",
       "    .colab-df-convert:hover {\n",
       "      background-color: #E2EBFA;\n",
       "      box-shadow: 0px 1px 2px rgba(60, 64, 67, 0.3), 0px 1px 3px 1px rgba(60, 64, 67, 0.15);\n",
       "      fill: #174EA6;\n",
       "    }\n",
       "\n",
       "    .colab-df-buttons div {\n",
       "      margin-bottom: 4px;\n",
       "    }\n",
       "\n",
       "    [theme=dark] .colab-df-convert {\n",
       "      background-color: #3B4455;\n",
       "      fill: #D2E3FC;\n",
       "    }\n",
       "\n",
       "    [theme=dark] .colab-df-convert:hover {\n",
       "      background-color: #434B5C;\n",
       "      box-shadow: 0px 1px 3px 1px rgba(0, 0, 0, 0.15);\n",
       "      filter: drop-shadow(0px 1px 2px rgba(0, 0, 0, 0.3));\n",
       "      fill: #FFFFFF;\n",
       "    }\n",
       "  </style>\n",
       "\n",
       "    <script>\n",
       "      const buttonEl =\n",
       "        document.querySelector('#df-ec30ba36-8b1e-4516-b41d-edfda8057f71 button.colab-df-convert');\n",
       "      buttonEl.style.display =\n",
       "        google.colab.kernel.accessAllowed ? 'block' : 'none';\n",
       "\n",
       "      async function convertToInteractive(key) {\n",
       "        const element = document.querySelector('#df-ec30ba36-8b1e-4516-b41d-edfda8057f71');\n",
       "        const dataTable =\n",
       "          await google.colab.kernel.invokeFunction('convertToInteractive',\n",
       "                                                    [key], {});\n",
       "        if (!dataTable) return;\n",
       "\n",
       "        const docLinkHtml = 'Like what you see? Visit the ' +\n",
       "          '<a target=\"_blank\" href=https://colab.research.google.com/notebooks/data_table.ipynb>data table notebook</a>'\n",
       "          + ' to learn more about interactive tables.';\n",
       "        element.innerHTML = '';\n",
       "        dataTable['output_type'] = 'display_data';\n",
       "        await google.colab.output.renderOutput(dataTable, element);\n",
       "        const docLink = document.createElement('div');\n",
       "        docLink.innerHTML = docLinkHtml;\n",
       "        element.appendChild(docLink);\n",
       "      }\n",
       "    </script>\n",
       "  </div>\n",
       "\n",
       "\n",
       "<div id=\"df-1211aa49-52d5-4a54-9980-eea674866450\">\n",
       "  <button class=\"colab-df-quickchart\" onclick=\"quickchart('df-1211aa49-52d5-4a54-9980-eea674866450')\"\n",
       "            title=\"Suggest charts\"\n",
       "            style=\"display:none;\">\n",
       "\n",
       "<svg xmlns=\"http://www.w3.org/2000/svg\" height=\"24px\"viewBox=\"0 0 24 24\"\n",
       "     width=\"24px\">\n",
       "    <g>\n",
       "        <path d=\"M19 3H5c-1.1 0-2 .9-2 2v14c0 1.1.9 2 2 2h14c1.1 0 2-.9 2-2V5c0-1.1-.9-2-2-2zM9 17H7v-7h2v7zm4 0h-2V7h2v10zm4 0h-2v-4h2v4z\"/>\n",
       "    </g>\n",
       "</svg>\n",
       "  </button>\n",
       "\n",
       "<style>\n",
       "  .colab-df-quickchart {\n",
       "      --bg-color: #E8F0FE;\n",
       "      --fill-color: #1967D2;\n",
       "      --hover-bg-color: #E2EBFA;\n",
       "      --hover-fill-color: #174EA6;\n",
       "      --disabled-fill-color: #AAA;\n",
       "      --disabled-bg-color: #DDD;\n",
       "  }\n",
       "\n",
       "  [theme=dark] .colab-df-quickchart {\n",
       "      --bg-color: #3B4455;\n",
       "      --fill-color: #D2E3FC;\n",
       "      --hover-bg-color: #434B5C;\n",
       "      --hover-fill-color: #FFFFFF;\n",
       "      --disabled-bg-color: #3B4455;\n",
       "      --disabled-fill-color: #666;\n",
       "  }\n",
       "\n",
       "  .colab-df-quickchart {\n",
       "    background-color: var(--bg-color);\n",
       "    border: none;\n",
       "    border-radius: 50%;\n",
       "    cursor: pointer;\n",
       "    display: none;\n",
       "    fill: var(--fill-color);\n",
       "    height: 32px;\n",
       "    padding: 0;\n",
       "    width: 32px;\n",
       "  }\n",
       "\n",
       "  .colab-df-quickchart:hover {\n",
       "    background-color: var(--hover-bg-color);\n",
       "    box-shadow: 0 1px 2px rgba(60, 64, 67, 0.3), 0 1px 3px 1px rgba(60, 64, 67, 0.15);\n",
       "    fill: var(--button-hover-fill-color);\n",
       "  }\n",
       "\n",
       "  .colab-df-quickchart-complete:disabled,\n",
       "  .colab-df-quickchart-complete:disabled:hover {\n",
       "    background-color: var(--disabled-bg-color);\n",
       "    fill: var(--disabled-fill-color);\n",
       "    box-shadow: none;\n",
       "  }\n",
       "\n",
       "  .colab-df-spinner {\n",
       "    border: 2px solid var(--fill-color);\n",
       "    border-color: transparent;\n",
       "    border-bottom-color: var(--fill-color);\n",
       "    animation:\n",
       "      spin 1s steps(1) infinite;\n",
       "  }\n",
       "\n",
       "  @keyframes spin {\n",
       "    0% {\n",
       "      border-color: transparent;\n",
       "      border-bottom-color: var(--fill-color);\n",
       "      border-left-color: var(--fill-color);\n",
       "    }\n",
       "    20% {\n",
       "      border-color: transparent;\n",
       "      border-left-color: var(--fill-color);\n",
       "      border-top-color: var(--fill-color);\n",
       "    }\n",
       "    30% {\n",
       "      border-color: transparent;\n",
       "      border-left-color: var(--fill-color);\n",
       "      border-top-color: var(--fill-color);\n",
       "      border-right-color: var(--fill-color);\n",
       "    }\n",
       "    40% {\n",
       "      border-color: transparent;\n",
       "      border-right-color: var(--fill-color);\n",
       "      border-top-color: var(--fill-color);\n",
       "    }\n",
       "    60% {\n",
       "      border-color: transparent;\n",
       "      border-right-color: var(--fill-color);\n",
       "    }\n",
       "    80% {\n",
       "      border-color: transparent;\n",
       "      border-right-color: var(--fill-color);\n",
       "      border-bottom-color: var(--fill-color);\n",
       "    }\n",
       "    90% {\n",
       "      border-color: transparent;\n",
       "      border-bottom-color: var(--fill-color);\n",
       "    }\n",
       "  }\n",
       "</style>\n",
       "\n",
       "  <script>\n",
       "    async function quickchart(key) {\n",
       "      const quickchartButtonEl =\n",
       "        document.querySelector('#' + key + ' button');\n",
       "      quickchartButtonEl.disabled = true;  // To prevent multiple clicks.\n",
       "      quickchartButtonEl.classList.add('colab-df-spinner');\n",
       "      try {\n",
       "        const charts = await google.colab.kernel.invokeFunction(\n",
       "            'suggestCharts', [key], {});\n",
       "      } catch (error) {\n",
       "        console.error('Error during call to suggestCharts:', error);\n",
       "      }\n",
       "      quickchartButtonEl.classList.remove('colab-df-spinner');\n",
       "      quickchartButtonEl.classList.add('colab-df-quickchart-complete');\n",
       "    }\n",
       "    (() => {\n",
       "      let quickchartButtonEl =\n",
       "        document.querySelector('#df-1211aa49-52d5-4a54-9980-eea674866450 button');\n",
       "      quickchartButtonEl.style.display =\n",
       "        google.colab.kernel.accessAllowed ? 'block' : 'none';\n",
       "    })();\n",
       "  </script>\n",
       "</div>\n",
       "    </div>\n",
       "  </div>\n"
      ],
      "text/plain": [
       "                       title  \\\n",
       "546                  Minions   \n",
       "95              Interstellar   \n",
       "788                 Deadpool   \n",
       "94   Guardians of the Galaxy   \n",
       "127       Mad Max: Fury Road   \n",
       "\n",
       "                                               tagline  \\\n",
       "546       Before Gru, they had a history of bad bosses   \n",
       "95   Mankind was born on Earth. It was never meant ...   \n",
       "788            Witness the beginning of a happy ending   \n",
       "94                         All heroes start somewhere.   \n",
       "127                                 What a Lovely Day.   \n",
       "\n",
       "                                              overview  \\\n",
       "546  Minions Stuart, Kevin and Bob are recruited by...   \n",
       "95   Interstellar chronicles the adventures of a gr...   \n",
       "788  Deadpool tells the origin story of former Spec...   \n",
       "94   Light years from Earth, 26 years after being a...   \n",
       "127  An apocalyptic story set in the furthest reach...   \n",
       "\n",
       "                                                genres  popularity  \\\n",
       "546  [{\"id\": 10751, \"name\": \"Family\"}, {\"id\": 16, \"...  875.581305   \n",
       "95   [{\"id\": 12, \"name\": \"Adventure\"}, {\"id\": 18, \"...  724.247784   \n",
       "788  [{\"id\": 28, \"name\": \"Action\"}, {\"id\": 12, \"nam...  514.569956   \n",
       "94   [{\"id\": 28, \"name\": \"Action\"}, {\"id\": 878, \"na...  481.098624   \n",
       "127  [{\"id\": 28, \"name\": \"Action\"}, {\"id\": 12, \"nam...  434.278564   \n",
       "\n",
       "                                           description  \n",
       "546  Before Gru, they had a history of bad bosses M...  \n",
       "95   Mankind was born on Earth. It was never meant ...  \n",
       "788  Witness the beginning of a happy ending Deadpo...  \n",
       "94   All heroes start somewhere. Light years from E...  \n",
       "127  What a Lovely Day. An apocalyptic story set in...  "
      ]
     },
     "execution_count": 53,
     "metadata": {},
     "output_type": "execute_result"
    }
   ],
   "source": [
    "pop_movies = df.sort_values(by='popularity', ascending=False)\n",
    "pop_movies.head()"
   ]
  },
  {
   "cell_type": "code",
   "execution_count": null,
   "metadata": {
    "id": "E9D_gxiW_HI7"
   },
   "outputs": [],
   "source": [
    "popular_movies = ['Minions', 'Interstellar', 'Deadpool', 'Jurassic World',\n",
    "'Pirates of the Caribbean: The Curse of the Black Pearl',\n",
    "'Dawn of the Planet of the Apes', 'The Hunger Games: Mockingjay - Part 1',\n",
    "'Terminator Genisys', 'Captain America: Civil War', 'The Dark Knight', 'The Martian',\n",
    "'Batman v Superman: Dawn of Justice', 'Pulp Fiction', 'The Godfather',\n",
    "'The Shawshank Redemption', 'The Lord of the Rings: The Fellowship of the Ring',\n",
    "'Harry Potter and the Chamber of Secrets', 'Star Wars',\n",
    "'The Hobbit: The Battle of the Five Armies', 'Iron Man']"
   ]
  },
  {
   "cell_type": "code",
   "execution_count": null,
   "metadata": {
    "colab": {
     "base_uri": "https://localhost:8080/"
    },
    "id": "sBIw15dO_UDD",
    "outputId": "382cea62-e38d-4fbc-9715-5f8a46cb65fd"
   },
   "outputs": [
    {
     "name": "stdout",
     "output_type": "stream",
     "text": [
      "Movie: Minions\n",
      "Top 5 recommended Movies: ['Despicable Me 2' 'Despicable Me'\n",
      " 'Teenage Mutant Ninja Turtles: Out of the Shadows' 'Superman'\n",
      " 'Rise of the Guardians']\n",
      "\n",
      "Movie: Interstellar\n",
      "Top 5 recommended Movies: ['Gattaca' 'Space Pirate Captain Harlock' 'Space Cowboys'\n",
      " 'Starship Troopers' 'Final Destination 2']\n",
      "\n",
      "Movie: Deadpool\n",
      "Top 5 recommended Movies: ['Silent Trigger' 'Underworld: Evolution' 'Bronson' 'Shaft' 'Don Jon']\n",
      "\n",
      "Movie: Jurassic World\n",
      "Top 5 recommended Movies: ['Jurassic Park' 'The Lost World: Jurassic Park' 'The Nut Job'\n",
      " \"National Lampoon's Vacation\" 'Vacation']\n",
      "\n",
      "Movie: Pirates of the Caribbean: The Curse of the Black Pearl\n",
      "Top 5 recommended Movies: [\"Pirates of the Caribbean: Dead Man's Chest\" 'The Pirate'\n",
      " 'Pirates of the Caribbean: On Stranger Tides'\n",
      " 'The Pirates! In an Adventure with Scientists!' 'Joyful Noise']\n",
      "\n",
      "Movie: Dawn of the Planet of the Apes\n",
      "Top 5 recommended Movies: ['Battle for the Planet of the Apes' 'Groove' 'The Other End of the Line'\n",
      " 'Chicago Overcoat' 'Definitely, Maybe']\n",
      "\n",
      "Movie: The Hunger Games: Mockingjay - Part 1\n",
      "Top 5 recommended Movies: ['The Hunger Games: Catching Fire' 'The Hunger Games: Mockingjay - Part 2'\n",
      " 'John Carter' 'For Greater Glory - The True Story of Cristiada'\n",
      " 'The Proposition']\n",
      "\n",
      "Movie: Terminator Genisys\n",
      "Top 5 recommended Movies: ['Terminator 2: Judgment Day' 'Terminator Salvation'\n",
      " 'Terminator 3: Rise of the Machines' 'Mad Max'\n",
      " 'X-Men: Days of Future Past']\n",
      "\n",
      "Movie: Captain America: Civil War\n",
      "Top 5 recommended Movies: ['Captain America: The Winter Soldier' 'This Means War'\n",
      " 'Avengers: Age of Ultron' 'Iron Man 2' 'Escape from Tomorrow']\n",
      "\n",
      "Movie: The Dark Knight\n",
      "Top 5 recommended Movies: ['The Dark Knight Rises' 'Batman Forever' 'Batman Returns'\n",
      " 'Batman: The Dark Knight Returns, Part 2' 'Slow Burn']\n",
      "\n",
      "Movie: The Martian\n",
      "Top 5 recommended Movies: ['The Last Days on Mars' 'Swept Away' 'Alive' 'All Is Lost' 'Red Planet']\n",
      "\n",
      "Movie: Batman v Superman: Dawn of Justice\n",
      "Top 5 recommended Movies: ['Batman Returns' 'The Punisher' 'Batman: The Dark Knight Returns, Part 2'\n",
      " 'Defendor' 'Nowhere to Run']\n",
      "\n",
      "Movie: Pulp Fiction\n",
      "Top 5 recommended Movies: ['Sliding Doors' 'You Kill Me' 'New York Stories' 'Timecrimes'\n",
      " 'All or Nothing']\n",
      "\n",
      "Movie: The Godfather\n",
      "Top 5 recommended Movies: ['The Godfather: Part II' 'Blood Ties' 'Made' 'Lords of London'\n",
      " 'Mickey Blue Eyes']\n",
      "\n",
      "Movie: The Shawshank Redemption\n",
      "Top 5 recommended Movies: ['Civil Brand' 'Les Misérables' 'The Chorus' 'Prison' 'Fortress']\n",
      "\n",
      "Movie: The Lord of the Rings: The Fellowship of the Ring\n",
      "Top 5 recommended Movies: ['The Lord of the Rings: The Two Towers'\n",
      " 'The Hobbit: The Desolation of Smaug'\n",
      " 'The Lord of the Rings: The Return of the King'\n",
      " \"What's the Worst That Could Happen?\" 'The Hobbit: An Unexpected Journey']\n",
      "\n",
      "Movie: Harry Potter and the Chamber of Secrets\n",
      "Top 5 recommended Movies: ['Harry Potter and the Prisoner of Azkaban'\n",
      " 'Harry Potter and the Goblet of Fire'\n",
      " 'Harry Potter and the Order of the Phoenix'\n",
      " 'Harry Potter and the Half-Blood Prince'\n",
      " \"Harry Potter and the Philosopher's Stone\"]\n",
      "\n",
      "Movie: Star Wars\n",
      "Top 5 recommended Movies: ['The Empire Strikes Back' 'Return of the Jedi' 'Shrek the Third'\n",
      " 'The Ice Pirates' 'The Tale of Despereaux']\n",
      "\n",
      "Movie: The Hobbit: The Battle of the Five Armies\n",
      "Top 5 recommended Movies: ['The Hobbit: The Desolation of Smaug' 'The Hobbit: An Unexpected Journey'\n",
      " \"Dragon Nest: Warriors' Dawn\"\n",
      " 'A Funny Thing Happened on the Way to the Forum' 'X-Men: Apocalypse']\n",
      "\n",
      "Movie: Iron Man\n",
      "Top 5 recommended Movies: ['Iron Man 2' 'Avengers: Age of Ultron' 'Hostage' 'Iron Man 3'\n",
      " 'Baahubali: The Beginning']\n",
      "\n"
     ]
    }
   ],
   "source": [
    "for movie in popular_movies:\n",
    " print('Movie:', movie)\n",
    " print('Top 5 recommended Movies:', movie_recommender(movie_title=movie))\n",
    " print()"
   ]
  },
  {
   "cell_type": "code",
   "execution_count": null,
   "metadata": {
    "colab": {
     "base_uri": "https://localhost:8080/"
    },
    "id": "XlW2I1SpQkcl",
    "outputId": "ad7e9053-6d10-47a6-d6ad-01f1a04ab010"
   },
   "outputs": [
    {
     "name": "stdout",
     "output_type": "stream",
     "text": [
      "Best pair:  Kung Fu Panda 2  and  Kung Fu Panda\n",
      "with similarity:  0.5919097235105792\n"
     ]
    }
   ],
   "source": [
    "def movie_top_top_similarity(movies=movies_list, doc_sims=doc_sim_df):\n",
    "    # counter = 0\n",
    "    best_movie_1 = \"\"\n",
    "    best_movie_2 = \"\"\n",
    "    best_sim = 0.0\n",
    "    for movie in movies:\n",
    "      movie_idx = np.where(movies == movie)[0][0]\n",
    "      # get movie similarities\n",
    "      movie_similarities = doc_sims.iloc[movie_idx].values\n",
    "      # get top 5 similar movie IDs\n",
    "      similar_movie_idxs = np.argsort(-movie_similarities)[1:2]\n",
    "      # get top 5 movies\n",
    "      similar_movies = movies[similar_movie_idxs]\n",
    "      s_m = similar_movies[0]\n",
    "      movie_idx_2 = np.where(movies == s_m)[0][0]\n",
    "      sim = doc_sims.iloc[movie_idx, movie_idx_2]\n",
    "      if sim > best_sim:\n",
    "        best_movie_1 = movie\n",
    "        best_movie_2 = s_m\n",
    "        best_sim = sim\n",
    "    print('Best pair: ', best_movie_1, ' and ', best_movie_2)\n",
    "    print('with similarity: ', best_sim)\n",
    "\n",
    "\n",
    "\n",
    "\n",
    "movie_top_top_similarity()"
   ]
  },
  {
   "cell_type": "markdown",
   "metadata": {
    "id": "uHKo-Htej_ei"
   },
   "source": [
    "# **Find similarities between two specific sentences**\n",
    "<a class=\"anchor\" id=\"between\" name=\"between\"></a>\n",
    "[go up](#TOC)"
   ]
  },
  {
   "cell_type": "markdown",
   "metadata": {
    "id": "jtOIyh2TtwoV"
   },
   "source": [
    "## **Robust Word2Vec Models with Gensim**\n",
    "<a class=\"anchor\" id=\"gensim\" name=\"gensim\"></a>\n",
    "[go to TOC](#TOC)"
   ]
  },
  {
   "cell_type": "code",
   "execution_count": null,
   "metadata": {
    "colab": {
     "base_uri": "https://localhost:8080/",
     "height": 206
    },
    "id": "GzenMJhqxMBV",
    "outputId": "c5119b17-a75e-4752-cf10-e528ec1dec4d"
   },
   "outputs": [
    {
     "data": {
      "text/html": [
       "\n",
       "  <div id=\"df-702e645a-261b-4b80-bc16-89d158926a1f\" class=\"colab-df-container\">\n",
       "    <div>\n",
       "<style scoped>\n",
       "    .dataframe tbody tr th:only-of-type {\n",
       "        vertical-align: middle;\n",
       "    }\n",
       "\n",
       "    .dataframe tbody tr th {\n",
       "        vertical-align: top;\n",
       "    }\n",
       "\n",
       "    .dataframe thead th {\n",
       "        text-align: right;\n",
       "    }\n",
       "</style>\n",
       "<table border=\"1\" class=\"dataframe\">\n",
       "  <thead>\n",
       "    <tr style=\"text-align: right;\">\n",
       "      <th></th>\n",
       "      <th>Review</th>\n",
       "      <th>Freshness</th>\n",
       "    </tr>\n",
       "  </thead>\n",
       "  <tbody>\n",
       "    <tr>\n",
       "      <th>0</th>\n",
       "      <td>wilfully offensive and power by a chest - t...</td>\n",
       "      <td>1</td>\n",
       "    </tr>\n",
       "    <tr>\n",
       "      <th>1</th>\n",
       "      <td>it would be difficult to imagine material m...</td>\n",
       "      <td>0</td>\n",
       "    </tr>\n",
       "    <tr>\n",
       "      <th>2</th>\n",
       "      <td>despite the gusto its star bring to the rol...</td>\n",
       "      <td>0</td>\n",
       "    </tr>\n",
       "    <tr>\n",
       "      <th>3</th>\n",
       "      <td>if there be a good idea at the core of this...</td>\n",
       "      <td>0</td>\n",
       "    </tr>\n",
       "    <tr>\n",
       "      <th>4</th>\n",
       "      <td>Gleeson go the Hallmark Channel route , dam...</td>\n",
       "      <td>0</td>\n",
       "    </tr>\n",
       "  </tbody>\n",
       "</table>\n",
       "</div>\n",
       "    <div class=\"colab-df-buttons\">\n",
       "\n",
       "  <div class=\"colab-df-container\">\n",
       "    <button class=\"colab-df-convert\" onclick=\"convertToInteractive('df-702e645a-261b-4b80-bc16-89d158926a1f')\"\n",
       "            title=\"Convert this dataframe to an interactive table.\"\n",
       "            style=\"display:none;\">\n",
       "\n",
       "  <svg xmlns=\"http://www.w3.org/2000/svg\" height=\"24px\" viewBox=\"0 -960 960 960\">\n",
       "    <path d=\"M120-120v-720h720v720H120Zm60-500h600v-160H180v160Zm220 220h160v-160H400v160Zm0 220h160v-160H400v160ZM180-400h160v-160H180v160Zm440 0h160v-160H620v160ZM180-180h160v-160H180v160Zm440 0h160v-160H620v160Z\"/>\n",
       "  </svg>\n",
       "    </button>\n",
       "\n",
       "  <style>\n",
       "    .colab-df-container {\n",
       "      display:flex;\n",
       "      gap: 12px;\n",
       "    }\n",
       "\n",
       "    .colab-df-convert {\n",
       "      background-color: #E8F0FE;\n",
       "      border: none;\n",
       "      border-radius: 50%;\n",
       "      cursor: pointer;\n",
       "      display: none;\n",
       "      fill: #1967D2;\n",
       "      height: 32px;\n",
       "      padding: 0 0 0 0;\n",
       "      width: 32px;\n",
       "    }\n",
       "\n",
       "    .colab-df-convert:hover {\n",
       "      background-color: #E2EBFA;\n",
       "      box-shadow: 0px 1px 2px rgba(60, 64, 67, 0.3), 0px 1px 3px 1px rgba(60, 64, 67, 0.15);\n",
       "      fill: #174EA6;\n",
       "    }\n",
       "\n",
       "    .colab-df-buttons div {\n",
       "      margin-bottom: 4px;\n",
       "    }\n",
       "\n",
       "    [theme=dark] .colab-df-convert {\n",
       "      background-color: #3B4455;\n",
       "      fill: #D2E3FC;\n",
       "    }\n",
       "\n",
       "    [theme=dark] .colab-df-convert:hover {\n",
       "      background-color: #434B5C;\n",
       "      box-shadow: 0px 1px 3px 1px rgba(0, 0, 0, 0.15);\n",
       "      filter: drop-shadow(0px 1px 2px rgba(0, 0, 0, 0.3));\n",
       "      fill: #FFFFFF;\n",
       "    }\n",
       "  </style>\n",
       "\n",
       "    <script>\n",
       "      const buttonEl =\n",
       "        document.querySelector('#df-702e645a-261b-4b80-bc16-89d158926a1f button.colab-df-convert');\n",
       "      buttonEl.style.display =\n",
       "        google.colab.kernel.accessAllowed ? 'block' : 'none';\n",
       "\n",
       "      async function convertToInteractive(key) {\n",
       "        const element = document.querySelector('#df-702e645a-261b-4b80-bc16-89d158926a1f');\n",
       "        const dataTable =\n",
       "          await google.colab.kernel.invokeFunction('convertToInteractive',\n",
       "                                                    [key], {});\n",
       "        if (!dataTable) return;\n",
       "\n",
       "        const docLinkHtml = 'Like what you see? Visit the ' +\n",
       "          '<a target=\"_blank\" href=https://colab.research.google.com/notebooks/data_table.ipynb>data table notebook</a>'\n",
       "          + ' to learn more about interactive tables.';\n",
       "        element.innerHTML = '';\n",
       "        dataTable['output_type'] = 'display_data';\n",
       "        await google.colab.output.renderOutput(dataTable, element);\n",
       "        const docLink = document.createElement('div');\n",
       "        docLink.innerHTML = docLinkHtml;\n",
       "        element.appendChild(docLink);\n",
       "      }\n",
       "    </script>\n",
       "  </div>\n",
       "\n",
       "\n",
       "<div id=\"df-63ef988a-1e11-40a2-8f26-ec6c466ef9e1\">\n",
       "  <button class=\"colab-df-quickchart\" onclick=\"quickchart('df-63ef988a-1e11-40a2-8f26-ec6c466ef9e1')\"\n",
       "            title=\"Suggest charts\"\n",
       "            style=\"display:none;\">\n",
       "\n",
       "<svg xmlns=\"http://www.w3.org/2000/svg\" height=\"24px\"viewBox=\"0 0 24 24\"\n",
       "     width=\"24px\">\n",
       "    <g>\n",
       "        <path d=\"M19 3H5c-1.1 0-2 .9-2 2v14c0 1.1.9 2 2 2h14c1.1 0 2-.9 2-2V5c0-1.1-.9-2-2-2zM9 17H7v-7h2v7zm4 0h-2V7h2v10zm4 0h-2v-4h2v4z\"/>\n",
       "    </g>\n",
       "</svg>\n",
       "  </button>\n",
       "\n",
       "<style>\n",
       "  .colab-df-quickchart {\n",
       "      --bg-color: #E8F0FE;\n",
       "      --fill-color: #1967D2;\n",
       "      --hover-bg-color: #E2EBFA;\n",
       "      --hover-fill-color: #174EA6;\n",
       "      --disabled-fill-color: #AAA;\n",
       "      --disabled-bg-color: #DDD;\n",
       "  }\n",
       "\n",
       "  [theme=dark] .colab-df-quickchart {\n",
       "      --bg-color: #3B4455;\n",
       "      --fill-color: #D2E3FC;\n",
       "      --hover-bg-color: #434B5C;\n",
       "      --hover-fill-color: #FFFFFF;\n",
       "      --disabled-bg-color: #3B4455;\n",
       "      --disabled-fill-color: #666;\n",
       "  }\n",
       "\n",
       "  .colab-df-quickchart {\n",
       "    background-color: var(--bg-color);\n",
       "    border: none;\n",
       "    border-radius: 50%;\n",
       "    cursor: pointer;\n",
       "    display: none;\n",
       "    fill: var(--fill-color);\n",
       "    height: 32px;\n",
       "    padding: 0;\n",
       "    width: 32px;\n",
       "  }\n",
       "\n",
       "  .colab-df-quickchart:hover {\n",
       "    background-color: var(--hover-bg-color);\n",
       "    box-shadow: 0 1px 2px rgba(60, 64, 67, 0.3), 0 1px 3px 1px rgba(60, 64, 67, 0.15);\n",
       "    fill: var(--button-hover-fill-color);\n",
       "  }\n",
       "\n",
       "  .colab-df-quickchart-complete:disabled,\n",
       "  .colab-df-quickchart-complete:disabled:hover {\n",
       "    background-color: var(--disabled-bg-color);\n",
       "    fill: var(--disabled-fill-color);\n",
       "    box-shadow: none;\n",
       "  }\n",
       "\n",
       "  .colab-df-spinner {\n",
       "    border: 2px solid var(--fill-color);\n",
       "    border-color: transparent;\n",
       "    border-bottom-color: var(--fill-color);\n",
       "    animation:\n",
       "      spin 1s steps(1) infinite;\n",
       "  }\n",
       "\n",
       "  @keyframes spin {\n",
       "    0% {\n",
       "      border-color: transparent;\n",
       "      border-bottom-color: var(--fill-color);\n",
       "      border-left-color: var(--fill-color);\n",
       "    }\n",
       "    20% {\n",
       "      border-color: transparent;\n",
       "      border-left-color: var(--fill-color);\n",
       "      border-top-color: var(--fill-color);\n",
       "    }\n",
       "    30% {\n",
       "      border-color: transparent;\n",
       "      border-left-color: var(--fill-color);\n",
       "      border-top-color: var(--fill-color);\n",
       "      border-right-color: var(--fill-color);\n",
       "    }\n",
       "    40% {\n",
       "      border-color: transparent;\n",
       "      border-right-color: var(--fill-color);\n",
       "      border-top-color: var(--fill-color);\n",
       "    }\n",
       "    60% {\n",
       "      border-color: transparent;\n",
       "      border-right-color: var(--fill-color);\n",
       "    }\n",
       "    80% {\n",
       "      border-color: transparent;\n",
       "      border-right-color: var(--fill-color);\n",
       "      border-bottom-color: var(--fill-color);\n",
       "    }\n",
       "    90% {\n",
       "      border-color: transparent;\n",
       "      border-bottom-color: var(--fill-color);\n",
       "    }\n",
       "  }\n",
       "</style>\n",
       "\n",
       "  <script>\n",
       "    async function quickchart(key) {\n",
       "      const quickchartButtonEl =\n",
       "        document.querySelector('#' + key + ' button');\n",
       "      quickchartButtonEl.disabled = true;  // To prevent multiple clicks.\n",
       "      quickchartButtonEl.classList.add('colab-df-spinner');\n",
       "      try {\n",
       "        const charts = await google.colab.kernel.invokeFunction(\n",
       "            'suggestCharts', [key], {});\n",
       "      } catch (error) {\n",
       "        console.error('Error during call to suggestCharts:', error);\n",
       "      }\n",
       "      quickchartButtonEl.classList.remove('colab-df-spinner');\n",
       "      quickchartButtonEl.classList.add('colab-df-quickchart-complete');\n",
       "    }\n",
       "    (() => {\n",
       "      let quickchartButtonEl =\n",
       "        document.querySelector('#df-63ef988a-1e11-40a2-8f26-ec6c466ef9e1 button');\n",
       "      quickchartButtonEl.style.display =\n",
       "        google.colab.kernel.accessAllowed ? 'block' : 'none';\n",
       "    })();\n",
       "  </script>\n",
       "</div>\n",
       "    </div>\n",
       "  </div>\n"
      ],
      "text/plain": [
       "                                              Review  Freshness\n",
       "0     wilfully offensive and power by a chest - t...          1\n",
       "1     it would be difficult to imagine material m...          0\n",
       "2     despite the gusto its star bring to the rol...          0\n",
       "3     if there be a good idea at the core of this...          0\n",
       "4     Gleeson go the Hallmark Channel route , dam...          0"
      ]
     },
     "execution_count": 37,
     "metadata": {},
     "output_type": "execute_result"
    }
   ],
   "source": [
    "import pandas as pd\n",
    "dataset_clean = pd.read_csv(\"clean100000.csv\")\n",
    "dataset_clean.head()"
   ]
  },
  {
   "cell_type": "code",
   "execution_count": null,
   "metadata": {
    "id": "mOeBzE7mkGiU"
   },
   "outputs": [],
   "source": [
    "%%capture\n",
    "!pip install gensim\n",
    "!pip install smart_open"
   ]
  },
  {
   "cell_type": "code",
   "execution_count": null,
   "metadata": {
    "colab": {
     "base_uri": "https://localhost:8080/"
    },
    "id": "8HSMThfCuDE9",
    "outputId": "d06de8c9-2349-42c0-98e5-6ff84d8f4b20"
   },
   "outputs": [
    {
     "name": "stdout",
     "output_type": "stream",
     "text": [
      "Time taken: 226.4081790447235 seconds\n"
     ]
    }
   ],
   "source": [
    "import pandas as pd\n",
    "from gensim.models import Word2Vec\n",
    "import nltk\n",
    "from nltk.tokenize import WordPunctTokenizer\n",
    "import time\n",
    "import numpy as np\n",
    "\n",
    "start_time = time.time()\n",
    "\n",
    "# Tokenize sentences in the 'Review' column of the corpus\n",
    "wpt = WordPunctTokenizer()\n",
    "tokenized_corpus = [wpt.tokenize(document) for document in dataset_clean['Review']]\n",
    "\n",
    "# Set values for various parameters\n",
    "feature_size = 100  # Word vector dimensionality\n",
    "window_context = 30  # Context window size\n",
    "min_word_count = 1  # Minimum word count\n",
    "sample = 1e-3  # Downsample setting for frequent words\n",
    "\n",
    "# Initialize and train the model (this may take some time)\n",
    "w2v_model = Word2Vec(vector_size=feature_size,\n",
    "                     window=window_context,\n",
    "                     min_count=min_word_count,\n",
    "                     sample=sample,\n",
    "                     epochs=50)\n",
    "\n",
    "# Build the vocabulary and train the Word2Vec model\n",
    "w2v_model.build_vocab(tokenized_corpus)\n",
    "w2v_model.train(tokenized_corpus, total_examples=w2v_model.corpus_count, epochs=w2v_model.epochs)\n",
    "\n",
    "# View similar words based on gensim's model\n",
    "similar_words = {search_term: [item[0] for item in w2v_model.wv.most_similar(search_term, topn=5)]\n",
    "                 for search_term in ['movie', 'film', 'good', 'bad', 'hollywood', 'hate', 'love', 'budget', 'actor', 'opinion', 'think', 'see']}\n",
    "                #  for search_term in ['movie', 'film', 'good', 'bad']}\n",
    "\n",
    "\n",
    "\n",
    "end_time = time.time()\n",
    "print(f\"Time taken: {end_time - start_time} seconds\")"
   ]
  },
  {
   "cell_type": "code",
   "execution_count": null,
   "metadata": {
    "id": "MNEoRB8IuF4s"
   },
   "outputs": [],
   "source": [
    "print(len(dataset_clean))\n",
    "similar_words"
   ]
  },
  {
   "cell_type": "markdown",
   "metadata": {
    "id": "JLbhGa8DuI-6"
   },
   "source": [
    "> Let’s also visualize the words of interest and their similar words using their\n",
    "> embedding vectors after reducing their dimensions to a 2D space with t-SNE\n",
    ">\n",
    "> Text Analysis with Python"
   ]
  },
  {
   "cell_type": "code",
   "execution_count": null,
   "metadata": {
    "colab": {
     "base_uri": "https://localhost:8080/",
     "height": 676
    },
    "id": "ola1J6dDuJb4",
    "outputId": "56710dd8-b194-4cde-fe6b-5bfd5accd813"
   },
   "outputs": [
    {
     "data": {
      "image/png": "[encoded data removed]",
      "text/plain": [
       "<Figure size 1400x800 with 1 Axes>"
      ]
     },
     "metadata": {},
     "output_type": "display_data"
    }
   ],
   "source": [
    "from matplotlib import pyplot as plt\n",
    "from sklearn.manifold import TSNE\n",
    "\n",
    "words = sum([[k] + v for k, v in similar_words.items()], [])\n",
    "wvs = w2v_model.wv[words]\n",
    "tsne = TSNE(n_components=2, random_state=0, n_iter=10000, perplexity=2)\n",
    "np.set_printoptions(suppress=True)\n",
    "T = tsne.fit_transform(wvs)\n",
    "labels = words\n",
    "plt.figure(figsize=(14, 8))\n",
    "plt.scatter(T[:, 0], T[:, 1], c='orange', edgecolors='r')\n",
    "for label, x, y in zip(labels, T[:, 0], T[:, 1]):\n",
    "    plt.annotate(label, xy=(x+1, y+1), xytext=(0, 0), textcoords='offset points')"
   ]
  },
  {
   "cell_type": "code",
   "execution_count": null,
   "metadata": {
    "colab": {
     "base_uri": "https://localhost:8080/"
    },
    "id": "ngNrejQ9y3wf",
    "outputId": "a4d3ab8f-7fc1-409e-ecd4-180335e282c5"
   },
   "outputs": [
    {
     "name": "stdout",
     "output_type": "stream",
     "text": [
      "                .      film      good  incredibly  outstanding      plot\n",
      ".        1.000000  0.049969  0.025652    0.042317    -0.089013  0.112396\n",
      "amazing -0.094210 -0.082171  0.168613    0.212356     0.199941 -0.121421\n",
      "great    0.182830 -0.017387  0.424448   -0.115350     0.016520 -0.044540\n",
      "movie    0.096249  0.594944  0.103938    0.059470     0.078731  0.136007\n",
      "story    0.103873  0.184527  0.034763   -0.061344    -0.144564  0.362686\n",
      "truly    0.076266 -0.043420  0.152667    0.306729    -0.018292 -0.067847\n"
     ]
    }
   ],
   "source": [
    "import numpy as np\n",
    "import pandas as pd\n",
    "from gensim.models import Word2Vec\n",
    "from nltk.tokenize import WordPunctTokenizer\n",
    "from sklearn.metrics.pairwise import cosine_similarity\n",
    "\n",
    "# Function to compute cosine similarity using Word2Vec vectors\n",
    "def word_similarity_analysis(sentence1, sentence2, w2v_model):\n",
    "\n",
    "    processed_sentence1 = process_sentence(sentence1)\n",
    "    processed_sentence2 = process_sentence(sentence2)\n",
    "    tokenizer = WordPunctTokenizer()\n",
    "    words1 = tokenizer.tokenize(processed_sentence1)\n",
    "    words2 = tokenizer.tokenize(processed_sentence2)\n",
    "\n",
    "    similarity_dict = {}\n",
    "\n",
    "    for word1 in words1:\n",
    "        vector1 = w2v_model.wv[word1] if word1 in w2v_model.wv else np.zeros(w2v_model.vector_size)\n",
    "        for word2 in words2:\n",
    "            vector2 = w2v_model.wv[word2] if word2 in w2v_model.wv else np.zeros(w2v_model.vector_size)\n",
    "            similarity = cosine_similarity([vector1], [vector2])[0][0]\n",
    "            similarity_dict[(word1, word2)] = similarity\n",
    "\n",
    "    sorted_similarities = sorted(similarity_dict.items(), key=lambda item: item[1], reverse=True)\n",
    "\n",
    "    return sorted_similarities\n",
    "\n",
    "# Example usage\n",
    "# Load or train your Word2Vec model here\n",
    "# w2v_model = Word2Vec.load('your_model_path')\n",
    "\n",
    "# Analyze similarities\n",
    "sentence1 = \"This movie was truly amazing and had a great story.\"\n",
    "sentence2 = \"The film was incredibly good and the plot was outstanding.\"\n",
    "\n",
    "similarities = word_similarity_analysis(sentence1, sentence2, w2v_model)\n",
    "\n",
    "# Convert to DataFrame for visualization\n",
    "unique_words1 = set(pair[0][0] for pair in similarities)\n",
    "unique_words2 = set(pair[0][1] for pair in similarities)\n",
    "similarity_df = pd.DataFrame(np.zeros((len(unique_words1), len(unique_words2))),\n",
    "                             index=sorted(unique_words1),\n",
    "                             columns=sorted(unique_words2))\n",
    "for (word1, word2), similarity in similarities:\n",
    "    similarity_df.at[word1, word2] = similarity\n",
    "\n",
    "print(similarity_df)\n"
   ]
  },
  {
   "cell_type": "code",
   "execution_count": null,
   "metadata": {
    "colab": {
     "base_uri": "https://localhost:8080/"
    },
    "id": "GHD-yfS0yvKZ",
    "outputId": "80e37272-edcb-4146-ce46-62840330857d"
   },
   "outputs": [
    {
     "name": "stdout",
     "output_type": "stream",
     "text": [
      "['movie', 'truly', 'amazing', 'great', 'story', '.']\n",
      "['film', 'incredibly', 'good', 'plot', 'outstanding', '.']\n",
      "The similarity between the sentences is: 76.09%\n"
     ]
    }
   ],
   "source": [
    "import numpy as np\n",
    "from sklearn.metrics.pairwise import cosine_similarity\n",
    "from nltk.tokenize import WordPunctTokenizer\n",
    "\n",
    "def sentence_similarity(sentence1, sentence2, w2v_model):\n",
    "\n",
    "    processed_sentence1 = process_sentence(sentence1)\n",
    "    processed_sentence2 = process_sentence(sentence2)\n",
    "    tokenizer = WordPunctTokenizer()\n",
    "\n",
    "    # Tokenize sentences\n",
    "    words1 = tokenizer.tokenize(processed_sentence1)\n",
    "    words2 = tokenizer.tokenize(processed_sentence2)\n",
    "    print(words1)\n",
    "    print(words2)\n",
    "\n",
    "    # Compute average vector for each sentence\n",
    "    vector1 = np.mean([w2v_model.wv[word] for word in words1 if word in w2v_model.wv] or [np.zeros(w2v_model.vector_size)], axis=0)\n",
    "    vector2 = np.mean([w2v_model.wv[word] for word in words2 if word in w2v_model.wv] or [np.zeros(w2v_model.vector_size)], axis=0)\n",
    "\n",
    "    # Compute cosine similarity and convert it to percentage\n",
    "    similarity = cosine_similarity([vector1], [vector2])[0][0]\n",
    "    return (similarity + 1) / 2 * 100\n",
    "\n",
    "# Example usage\n",
    "sentence1 = \"This movie was truly amazing and had a great story.\"\n",
    "sentence2 = \"The film was incredibly good and the plot was outstanding.\"\n",
    "\n",
    "# Assuming w2v_model is your Word2Vec model\n",
    "similarity_percentage = sentence_similarity(sentence1, sentence2, w2v_model)\n",
    "print(f\"The similarity between the sentences is: {similarity_percentage:.2f}%\")\n"
   ]
  },
  {
   "cell_type": "code",
   "execution_count": null,
   "metadata": {
    "id": "OmbncFFy0N_9"
   },
   "outputs": [],
   "source": [
    "# input_sentence = \"This movie was truly amazing and had a great story.\"\n",
    "input_sentence = \"I hated this story. The director is a bad person\"\n",
    "tokenized_input = wpt.tokenize(input_sentence)\n",
    "\n",
    "similar_words_input = {word: w2v_model.wv.most_similar(word, topn=1)[0][0] for word in tokenized_input if word in w2v_model.wv}\n",
    "\n",
    "print(similar_words_input)\n",
    "\n",
    "new_sentence = ' '.join([similar_words_input.get(word, word) for word in tokenized_input])\n",
    "\n",
    "print(input_sentence)\n",
    "print(new_sentence)"
   ]
  },
  {
   "cell_type": "code",
   "execution_count": null,
   "metadata": {
    "id": "SwQS0p9_90f4"
   },
   "outputs": [],
   "source": []
  },
  {
   "cell_type": "markdown",
   "metadata": {
    "id": "k44RPYN5zcmn"
   },
   "source": [
    "## **GloVe** <a class=\"anchor\" id=\"glove\" name=\"glove\"></a>\n",
    "[go to top](#TOC)"
   ]
  },
  {
   "cell_type": "code",
   "execution_count": null,
   "metadata": {
    "colab": {
     "base_uri": "https://localhost:8080/",
     "height": 75
    },
    "id": "moqsDxJU2ZiO",
    "outputId": "d72128ca-05eb-40a9-a483-f2444dc781db"
   },
   "outputs": [
    {
     "data": {
      "text/html": [
       "\n",
       "     <input type=\"file\" id=\"files-216a3b30-88b2-4117-a17b-245548afac82\" name=\"files[]\" multiple disabled\n",
       "        style=\"border:none\" />\n",
       "     <output id=\"result-216a3b30-88b2-4117-a17b-245548afac82\">\n",
       "      Upload widget is only available when the cell has been executed in the\n",
       "      current browser session. Please rerun this cell to enable.\n",
       "      </output>\n",
       "      <script>// Copyright 2017 Google LLC\n",
       "//\n",
       "// Licensed under the Apache License, Version 2.0 (the \"License\");\n",
       "// you may not use this file except in compliance with the License.\n",
       "// You may obtain a copy of the License at\n",
       "//\n",
       "//      http://www.apache.org/licenses/LICENSE-2.0\n",
       "//\n",
       "// Unless required by applicable law or agreed to in writing, software\n",
       "// distributed under the License is distributed on an \"AS IS\" BASIS,\n",
       "// WITHOUT WARRANTIES OR CONDITIONS OF ANY KIND, either express or implied.\n",
       "// See the License for the specific language governing permissions and\n",
       "// limitations under the License.\n",
       "\n",
       "/**\n",
       " * @fileoverview Helpers for google.colab Python module.\n",
       " */\n",
       "(function(scope) {\n",
       "function span(text, styleAttributes = {}) {\n",
       "  const element = document.createElement('span');\n",
       "  element.textContent = text;\n",
       "  for (const key of Object.keys(styleAttributes)) {\n",
       "    element.style[key] = styleAttributes[key];\n",
       "  }\n",
       "  return element;\n",
       "}\n",
       "\n",
       "// Max number of bytes which will be uploaded at a time.\n",
       "const MAX_PAYLOAD_SIZE = 100 * 1024;\n",
       "\n",
       "function _uploadFiles(inputId, outputId) {\n",
       "  const steps = uploadFilesStep(inputId, outputId);\n",
       "  const outputElement = document.getElementById(outputId);\n",
       "  // Cache steps on the outputElement to make it available for the next call\n",
       "  // to uploadFilesContinue from Python.\n",
       "  outputElement.steps = steps;\n",
       "\n",
       "  return _uploadFilesContinue(outputId);\n",
       "}\n",
       "\n",
       "// This is roughly an async generator (not supported in the browser yet),\n",
       "// where there are multiple asynchronous steps and the Python side is going\n",
       "// to poll for completion of each step.\n",
       "// This uses a Promise to block the python side on completion of each step,\n",
       "// then passes the result of the previous step as the input to the next step.\n",
       "function _uploadFilesContinue(outputId) {\n",
       "  const outputElement = document.getElementById(outputId);\n",
       "  const steps = outputElement.steps;\n",
       "\n",
       "  const next = steps.next(outputElement.lastPromiseValue);\n",
       "  return Promise.resolve(next.value.promise).then((value) => {\n",
       "    // Cache the last promise value to make it available to the next\n",
       "    // step of the generator.\n",
       "    outputElement.lastPromiseValue = value;\n",
       "    return next.value.response;\n",
       "  });\n",
       "}\n",
       "\n",
       "/**\n",
       " * Generator function which is called between each async step of the upload\n",
       " * process.\n",
       " * @param {string} inputId Element ID of the input file picker element.\n",
       " * @param {string} outputId Element ID of the output display.\n",
       " * @return {!Iterable<!Object>} Iterable of next steps.\n",
       " */\n",
       "function* uploadFilesStep(inputId, outputId) {\n",
       "  const inputElement = document.getElementById(inputId);\n",
       "  inputElement.disabled = false;\n",
       "\n",
       "  const outputElement = document.getElementById(outputId);\n",
       "  outputElement.innerHTML = '';\n",
       "\n",
       "  const pickedPromise = new Promise((resolve) => {\n",
       "    inputElement.addEventListener('change', (e) => {\n",
       "      resolve(e.target.files);\n",
       "    });\n",
       "  });\n",
       "\n",
       "  const cancel = document.createElement('button');\n",
       "  inputElement.parentElement.appendChild(cancel);\n",
       "  cancel.textContent = 'Cancel upload';\n",
       "  const cancelPromise = new Promise((resolve) => {\n",
       "    cancel.onclick = () => {\n",
       "      resolve(null);\n",
       "    };\n",
       "  });\n",
       "\n",
       "  // Wait for the user to pick the files.\n",
       "  const files = yield {\n",
       "    promise: Promise.race([pickedPromise, cancelPromise]),\n",
       "    response: {\n",
       "      action: 'starting',\n",
       "    }\n",
       "  };\n",
       "\n",
       "  cancel.remove();\n",
       "\n",
       "  // Disable the input element since further picks are not allowed.\n",
       "  inputElement.disabled = true;\n",
       "\n",
       "  if (!files) {\n",
       "    return {\n",
       "      response: {\n",
       "        action: 'complete',\n",
       "      }\n",
       "    };\n",
       "  }\n",
       "\n",
       "  for (const file of files) {\n",
       "    const li = document.createElement('li');\n",
       "    li.append(span(file.name, {fontWeight: 'bold'}));\n",
       "    li.append(span(\n",
       "        `(${file.type || 'n/a'}) - ${file.size} bytes, ` +\n",
       "        `last modified: ${\n",
       "            file.lastModifiedDate ? file.lastModifiedDate.toLocaleDateString() :\n",
       "                                    'n/a'} - `));\n",
       "    const percent = span('0% done');\n",
       "    li.appendChild(percent);\n",
       "\n",
       "    outputElement.appendChild(li);\n",
       "\n",
       "    const fileDataPromise = new Promise((resolve) => {\n",
       "      const reader = new FileReader();\n",
       "      reader.onload = (e) => {\n",
       "        resolve(e.target.result);\n",
       "      };\n",
       "      reader.readAsArrayBuffer(file);\n",
       "    });\n",
       "    // Wait for the data to be ready.\n",
       "    let fileData = yield {\n",
       "      promise: fileDataPromise,\n",
       "      response: {\n",
       "        action: 'continue',\n",
       "      }\n",
       "    };\n",
       "\n",
       "    // Use a chunked sending to avoid message size limits. See b/62115660.\n",
       "    let position = 0;\n",
       "    do {\n",
       "      const length = Math.min(fileData.byteLength - position, MAX_PAYLOAD_SIZE);\n",
       "      const chunk = new Uint8Array(fileData, position, length);\n",
       "      position += length;\n",
       "\n",
       "      const base64 = btoa(String.fromCharCode.apply(null, chunk));\n",
       "      yield {\n",
       "        response: {\n",
       "          action: 'append',\n",
       "          file: file.name,\n",
       "          data: base64,\n",
       "        },\n",
       "      };\n",
       "\n",
       "      let percentDone = fileData.byteLength === 0 ?\n",
       "          100 :\n",
       "          Math.round((position / fileData.byteLength) * 100);\n",
       "      percent.textContent = `${percentDone}% done`;\n",
       "\n",
       "    } while (position < fileData.byteLength);\n",
       "  }\n",
       "\n",
       "  // All done.\n",
       "  yield {\n",
       "    response: {\n",
       "      action: 'complete',\n",
       "    }\n",
       "  };\n",
       "}\n",
       "\n",
       "scope.google = scope.google || {};\n",
       "scope.google.colab = scope.google.colab || {};\n",
       "scope.google.colab._files = {\n",
       "  _uploadFiles,\n",
       "  _uploadFilesContinue,\n",
       "};\n",
       "})(self);\n",
       "</script> "
      ],
      "text/plain": [
       "<IPython.core.display.HTML object>"
      ]
     },
     "metadata": {},
     "output_type": "display_data"
    },
    {
     "name": "stdout",
     "output_type": "stream",
     "text": [
      "Saving clean100000.csv to clean100000.csv\n"
     ]
    }
   ],
   "source": [
    "# load dataset if not loaded\n",
    "from google.colab import files\n",
    "uploaded = files.upload()\n",
    "\n",
    "import pandas as pd\n",
    "import io\n",
    "\n",
    "dataset_clean = pd.read_csv(io.BytesIO(uploaded['clean100000.csv']))"
   ]
  },
  {
   "cell_type": "code",
   "execution_count": null,
   "metadata": {
    "id": "o8Y2IeGJzk5a"
   },
   "outputs": [],
   "source": [
    "%%capture\n",
    "!pip install -U spacy\n",
    "!python -m spacy download en_core_web_lg"
   ]
  },
  {
   "cell_type": "code",
   "execution_count": null,
   "metadata": {
    "colab": {
     "base_uri": "https://localhost:8080/"
    },
    "id": "h_jgeHNKzrJp",
    "outputId": "fdec5f8a-5506-485e-e996-ee14525fb231"
   },
   "outputs": [
    {
     "name": "stdout",
     "output_type": "stream",
     "text": [
      "Total word vectors: 514157\n"
     ]
    }
   ],
   "source": [
    "import spacy\n",
    "\n",
    "nlp = spacy.load('en_core_web_lg') # includes word vectors based on the GloVe model\n",
    "total_vectors = len(nlp.vocab.vectors)\n",
    "print('Total word vectors:', total_vectors)"
   ]
  },
  {
   "cell_type": "code",
   "execution_count": null,
   "metadata": {
    "colab": {
     "base_uri": "https://localhost:8080/"
    },
    "id": "Kexuc8vIzwpC",
    "outputId": "fe6cfd1d-b862-4c0e-ab72-be4ecdb04e0a"
   },
   "outputs": [
    {
     "name": "stdout",
     "output_type": "stream",
     "text": [
      "Time taken: 475.9674301147461 seconds\n"
     ]
    }
   ],
   "source": [
    "import numpy as np\n",
    "import time\n",
    "\n",
    "start_time = time.time()\n",
    "\n",
    "unique_words = set()\n",
    "for sentence in dataset_clean['Review']:\n",
    "    words = sentence.split()\n",
    "    unique_words.update(words)\n",
    "\n",
    "len(unique_words)\n",
    "unique_words = list(unique_words)\n",
    "word_glove_vectors = np.array([nlp(word).vector for word in unique_words])\n",
    "words_df = pd.DataFrame(word_glove_vectors, index=unique_words)\n",
    "words_df\n",
    "\n",
    "end_time = time.time()\n",
    "print(f\"Time taken: {end_time - start_time} seconds\")"
   ]
  },
  {
   "cell_type": "markdown",
   "metadata": {
    "id": "qhLcRDa_lqUu"
   },
   "source": [
    "### **Find and Analyse Similar words**"
   ]
  },
  {
   "cell_type": "code",
   "execution_count": null,
   "metadata": {
    "colab": {
     "base_uri": "https://localhost:8080/"
    },
    "id": "pShAw09dzz5Z",
    "outputId": "9d6c1d48-40c2-4667-cdee-50e5050c2160"
   },
   "outputs": [
    {
     "name": "stdout",
     "output_type": "stream",
     "text": [
      "movie: [('moviegoer', 0.8596261), ('film', 0.8332769), ('filmy', 0.8014005), ('film-', 0.79649806), ('moviemaker', 0.7779017)]\n",
      "film: [('film-', 0.93278134), ('filmy', 0.9278247), ('filmic', 0.86514866), ('filme', 0.85421216), ('films', 0.8486484)]\n",
      "good: [('great', 0.75513047), ('bad', 0.73918885), ('decent', 0.72651505), ('terrific', 0.71511525), ('excellent', 0.69051963)]\n",
      "bad: [('good', 0.73918885), ('horrible', 0.6745009), ('terrible', 0.66804695), ('nasty', 0.6006269), ('awful', 0.5879264)]\n",
      "hollywood: [('bollywood', 0.91668683), ('Tollywood', 0.85822594), ('Dollywood', 0.8109392), ('Hollywood', 0.8064641), ('Bollywood', 0.77994925)]\n",
      "hate: [('hateful', 0.7265867), ('loathe', 0.6639591), ('despise', 0.6581539), ('dislike', 0.6406129), ('stupid', 0.6154527)]\n",
      "love: [('lovesick', 0.76579475), ('lovefest', 0.7650283), ('lovelorn', 0.7560156), ('lovey', 0.74834085), ('loves', 0.74749565)]\n",
      "budget: [('budgetary', 0.8245003), ('expenditure', 0.71433854), ('budge', 0.6853767), ('fiscal', 0.63700247), ('spending', 0.6038901)]\n",
      "actor: [('actress', 0.8099312), ('Actor', 0.77842313), ('screenwriter', 0.7625107), ('comedian', 0.74342734), ('filmmaker', 0.7305218)]\n",
      "opinion: [('opinionated', 0.7069134), ('viewpoint', 0.67084134), ('argument', 0.6330458), ('belief', 0.6275049), ('judgment', 0.6205349)]\n",
      "think: [('thinky', 0.8660339), ('know', 0.8383216), ('believe', 0.81152), ('suppose', 0.8005034), ('realize', 0.8003219)]\n",
      "see: [('tell', 0.714476), ('find', 0.70357853), ('imagine', 0.70008475), ('know', 0.6999392), ('hear', 0.66873914)]\n"
     ]
    }
   ],
   "source": [
    "from sklearn.metrics.pairwise import cosine_similarity\n",
    "\n",
    "word_to_vec = dict(zip(unique_words, word_glove_vectors))\n",
    "\n",
    "def find_closest_words(word, word_to_vec):\n",
    "    if word not in word_to_vec:\n",
    "        return \"Word not in vocabulary.\"\n",
    "\n",
    "    # Compute similarity between 'word' and all other words in the vocabulary\n",
    "    word_vec = word_to_vec[word].reshape(1, -1)\n",
    "    similarities = {other_word: cosine_similarity(word_vec, other_vec.reshape(1, -1))[0][0]\n",
    "                    for other_word, other_vec in word_to_vec.items() if other_word != word}\n",
    "\n",
    "    # Sort words by similarity\n",
    "    closest_words = sorted(similarities.items(), key=lambda item: item[1], reverse=True)\n",
    "\n",
    "    return closest_words\n",
    "\n",
    "# Find the top 5 words closest\n",
    "for word in ['movie', 'film', 'good', 'bad', 'hollywood', 'hate', 'love', 'budget', 'actor', 'opinion', 'think', 'see']:\n",
    "# for word in ['movie']:\n",
    "    closest = find_closest_words(word, word_to_vec)\n",
    "    print(f\"{word}: {closest[:5]}\")\n",
    "\n"
   ]
  },
  {
   "cell_type": "code",
   "execution_count": null,
   "metadata": {
    "id": "mL-ZqbSCz2b6"
   },
   "outputs": [],
   "source": [
    "import pandas as pd\n",
    "from sklearn.manifold import TSNE\n",
    "from matplotlib import pyplot as plt\n",
    "\n",
    "terms_of_interest = ['movie', 'film', 'good', 'bad', 'hate', 'love', 'actor', 'opinion', 'think', 'see']\n",
    "# terms_of_interest = ['movie']\n",
    "similar_words = {term: [item[0] for item in find_closest_words(term, word_to_vec)[:3]] for term in terms_of_interest}\n",
    "\n",
    "# Flatten the list of words to ensure each word is only represented once\n",
    "words = sum([[k] + v for k, v in similar_words.items()], [])\n",
    "unique_words_for_tsne = list(set(words))  # Remove duplicates to avoid redundant computation"
   ]
  },
  {
   "cell_type": "code",
   "execution_count": null,
   "metadata": {
    "colab": {
     "base_uri": "https://localhost:8080/"
    },
    "id": "Ts0ziu-Nmlji",
    "outputId": "6df39fc7-994c-4d81-e8c8-d5859883a4de"
   },
   "outputs": [
    {
     "name": "stdout",
     "output_type": "stream",
     "text": [
      "{'movie': ['moviegoer', 'film', 'filmy'], 'film': ['film-', 'filmy', 'filmic'], 'good': ['great', 'bad', 'decent'], 'bad': ['good', 'horrible', 'terrible'], 'hate': ['hateful', 'loathe', 'despise'], 'love': ['lovesick', 'lovefest', 'lovelorn'], 'actor': ['actress', 'Actor', 'screenwriter'], 'opinion': ['opinionated', 'viewpoint', 'argument'], 'think': ['thinky', 'know', 'believe'], 'see': ['tell', 'find', 'imagine']}\n",
      "['movie', 'moviegoer', 'film', 'filmy', 'film', 'film-', 'filmy', 'filmic', 'good', 'great', 'bad', 'decent', 'bad', 'good', 'horrible', 'terrible', 'hate', 'hateful', 'loathe', 'despise', 'love', 'lovesick', 'lovefest', 'lovelorn', 'actor', 'actress', 'Actor', 'screenwriter', 'opinion', 'opinionated', 'viewpoint', 'argument', 'think', 'thinky', 'know', 'believe', 'see', 'tell', 'find', 'imagine']\n",
      "['Actor', 'viewpoint', 'terrible', 'opinionated', 'horrible', 'good', 'film', 'despise', 'bad', 'lovefest', 'decent', 'movie', 'find', 'love', 'tell', 'hateful', 'see', 'thinky', 'great', 'hate', 'believe', 'know', 'screenwriter', 'imagine', 'lovesick', 'lovelorn', 'moviegoer', 'filmy', 'think', 'actor', 'actress', 'filmic', 'loathe', 'film-', 'opinion', 'argument']\n"
     ]
    }
   ],
   "source": [
    "print(similar_words)\n",
    "print(words)\n",
    "print(unique_words_for_tsne)"
   ]
  },
  {
   "cell_type": "code",
   "execution_count": null,
   "metadata": {
    "id": "UqcvqnDkz359"
   },
   "outputs": [],
   "source": [
    "import numpy as np\n",
    "import pandas as pd\n",
    "from sklearn.manifold import TSNE\n",
    "from matplotlib import pyplot as plt\n",
    "\n",
    "wvs = []\n",
    "for word in unique_words_for_tsne:\n",
    "    try:\n",
    "        wvs.append(word_to_vec[word])\n",
    "    except KeyError:\n",
    "        print(f\"Word '{word}' not in GloVe dictionary.\")\n",
    "\n",
    "wvs = np.array(wvs)\n"
   ]
  },
  {
   "cell_type": "code",
   "execution_count": null,
   "metadata": {
    "colab": {
     "base_uri": "https://localhost:8080/",
     "height": 676
    },
    "id": "cZmCT0OZz5Rh",
    "outputId": "207c6d64-0402-4e42-f541-15005e40f9a3"
   },
   "outputs": [
    {
     "data": {
      "image/png": "[encoded data removed]",
      "text/plain": [
       "<Figure size 1400x800 with 1 Axes>"
      ]
     },
     "metadata": {},
     "output_type": "display_data"
    }
   ],
   "source": [
    "# Set up and run t-SNE\n",
    "tsne = TSNE(n_components=2, random_state=0, n_iter=5000, perplexity=2)\n",
    "np.set_printoptions(suppress=True)\n",
    "T = tsne.fit_transform(wvs)\n",
    "\n",
    "# Plotting the words\n",
    "plt.figure(figsize=(14, 8))\n",
    "plt.scatter(T[:, 0], T[:, 1], c='orange', edgecolors='r')\n",
    "for label, x, y in zip(unique_words_for_tsne, T[:, 0], T[:, 1]):\n",
    "    plt.annotate(label, xy=(x, y), xytext=(3, 1), textcoords='offset points', ha='right', va='bottom')\n",
    "\n",
    "plt.show()"
   ]
  },
  {
   "cell_type": "markdown",
   "metadata": {
    "id": "Tn2H_tMgl2IB"
   },
   "source": [
    "### **Analyse similarity of the sentence**"
   ]
  },
  {
   "cell_type": "code",
   "execution_count": null,
   "metadata": {
    "colab": {
     "base_uri": "https://localhost:8080/"
    },
    "id": "Hq7MXKsPz64c",
    "outputId": "9d81b7d1-0b49-494a-fe16-a94fa50dba6a"
   },
   "outputs": [
    {
     "name": "stdout",
     "output_type": "stream",
     "text": [
      "The similarity between the sentences is: 85.60%\n"
     ]
    }
   ],
   "source": [
    "from sklearn.metrics.pairwise import cosine_similarity\n",
    "\n",
    "# Function to create a sentence vector by averaging the word vectors of the words in the sentence\n",
    "def sentence_vector(sentence, word_to_vec):\n",
    "    words = sentence.split()\n",
    "    word_vectors = [word_to_vec.get(word, np.zeros((word_glove_vectors.shape[1],))) for word in words]\n",
    "    sentence_vector = np.mean(word_vectors, axis=0)\n",
    "    return sentence_vector\n",
    "\n",
    "# Define two sentences to test the similarity\n",
    "\n",
    "sentence1 = \"This movie was truly amazing and had a great story.\"\n",
    "sentence2 = \"The film was incredibly good and the plot was outstanding.\"\n",
    "\n",
    "# Create vectors for the sentences\n",
    "processed_sentence1 = process_sentence(sentence1)\n",
    "processed_sentence2 = process_sentence(sentence2)\n",
    "vector1 = sentence_vector(processed_sentence1, word_to_vec)\n",
    "vector2 = sentence_vector(processed_sentence2, word_to_vec)\n",
    "\n",
    "# Calculate cosine similarity between the two sentence vectors\n",
    "similarity = cosine_similarity(vector1.reshape(1, -1), vector2.reshape(1, -1))[0][0]\n",
    "\n",
    "# Convert similarity to percentage\n",
    "similarity_percentage = similarity * 100\n",
    "\n",
    "# Print out the similarity\n",
    "print(f\"The similarity between the sentences is: {similarity_percentage:.2f}%\")\n"
   ]
  },
  {
   "cell_type": "markdown",
   "metadata": {
    "id": "99wRX8Fcesxg"
   },
   "source": [
    "Example of dissimmilar texts:"
   ]
  },
  {
   "cell_type": "code",
   "execution_count": null,
   "metadata": {
    "colab": {
     "base_uri": "https://localhost:8080/"
    },
    "id": "uLsUSn9we4f7",
    "outputId": "5500fc76-9543-498b-f3cf-eb7cd29dd596"
   },
   "outputs": [
    {
     "name": "stdout",
     "output_type": "stream",
     "text": [
      "The similarity between the sentences is: 51.66%\n"
     ]
    }
   ],
   "source": [
    "from sklearn.metrics.pairwise import cosine_similarity\n",
    "\n",
    "# Function to create a sentence vector by averaging the word vectors of the words in the sentence\n",
    "def sentence_vector(sentence, word_to_vec):\n",
    "    words = sentence.split()\n",
    "    word_vectors = [word_to_vec.get(word, np.zeros((word_glove_vectors.shape[1],))) for word in words]\n",
    "    sentence_vector = np.mean(word_vectors, axis=0)\n",
    "    return sentence_vector\n",
    "\n",
    "# Define two sentences to test the similarity\n",
    "\n",
    "sentence1 = \"This movie was truly amazing and had a great story.\"\n",
    "sentence2 = \"My cat is very biting, so I never pick her up\"\n",
    "\n",
    "# Create vectors for the sentences\n",
    "processed_sentence1 = process_sentence(sentence1)\n",
    "processed_sentence2 = process_sentence(sentence2)\n",
    "vector1 = sentence_vector(processed_sentence1, word_to_vec)\n",
    "vector2 = sentence_vector(processed_sentence2, word_to_vec)\n",
    "\n",
    "# Calculate cosine similarity between the two sentence vectors\n",
    "similarity = cosine_similarity(vector1.reshape(1, -1), vector2.reshape(1, -1))[0][0]\n",
    "\n",
    "# Convert similarity to percentage\n",
    "similarity_percentage = similarity * 100\n",
    "\n",
    "# Print out the similarity\n",
    "print(f\"The similarity between the sentences is: {similarity_percentage:.2f}%\")\n"
   ]
  },
  {
   "cell_type": "code",
   "execution_count": null,
   "metadata": {
    "id": "Q6KeIHYlz8Po"
   },
   "outputs": [],
   "source": [
    "# Function to compute cosine similarity between vectors of all words in two sentences\n",
    "def word_similarity_analysis(sentence1, sentence2, word_to_vec):\n",
    "    words1 = sentence1.split()\n",
    "    words2 = sentence2.split()\n",
    "\n",
    "    # Store similarities in a dictionary\n",
    "    similarity_dict = {}\n",
    "\n",
    "    for word1 in words1:\n",
    "        # Retrieve the vector for word1, or use a zero vector if the word is not in the vocabulary\n",
    "        vector1 = word_to_vec.get(word1, np.zeros((word_glove_vectors.shape[1],)))\n",
    "        for word2 in words2:\n",
    "            # Retrieve the vector for word2, or use a zero vector if the word is not in the vocabulary\n",
    "            vector2 = word_to_vec.get(word2, np.zeros((word_glove_vectors.shape[1],)))\n",
    "            # Calculate cosine similarity and store it in the dictionary\n",
    "            similarity = cosine_similarity(vector1.reshape(1, -1), vector2.reshape(1, -1))[0][0]\n",
    "            similarity_dict[(word1, word2)] = similarity\n",
    "\n",
    "    # Sort the dictionary by similarity score\n",
    "    sorted_similarities = sorted(similarity_dict.items(), key=lambda item: item[1], reverse=True)\n",
    "\n",
    "\n",
    "    return sorted_similarities\n",
    "\n",
    "similarities = word_similarity_analysis(processed_sentence1, processed_sentence2, word_to_vec)\n",
    "\n",
    "# similarities\n",
    "# print(f\"Most semantically similar word pair: {most_similar[0]} with a similarity of {most_similar[1]*100:.2f}%\")\n",
    "# print(f\"Least semantically similar word pair: {least_similar[0]} with a similarity of {least_similar[1]*100:.2f}%\")\n"
   ]
  },
  {
   "cell_type": "code",
   "execution_count": null,
   "metadata": {
    "colab": {
     "base_uri": "https://localhost:8080/"
    },
    "id": "haqJPBkflKAp",
    "outputId": "0cdfd9f7-f584-4662-982c-007f281b8f76"
   },
   "outputs": [
    {
     "name": "stdout",
     "output_type": "stream",
     "text": [
      "                .      film      good  incredibly  outstanding      plot\n",
      ".        1.000000 -0.009095  0.288674    0.266851     0.326775  0.109322\n",
      "amazing  0.225753  0.084596  0.590898    0.567639     0.483716  0.051988\n",
      "great    0.300736  0.082885  0.755130    0.475666     0.592463  0.069649\n",
      "movie    0.023211  0.833277  0.139775    0.183301     0.016186  0.445783\n",
      "story    0.096732  0.524190  0.114741    0.297797     0.233712  0.598915\n",
      "truly    0.173340  0.081420  0.387853    0.652918     0.313164  0.179490\n",
      "Average Similarity: 0.32\n"
     ]
    }
   ],
   "source": [
    "# Extract unique words from both sentences\n",
    "unique_words1 = set(pair[0][0] for pair in similarities)\n",
    "unique_words2 = set(pair[0][1] for pair in similarities)\n",
    "\n",
    "# Create a DataFrame with zeros\n",
    "similarity_df = pd.DataFrame(np.zeros((len(unique_words1), len(unique_words2))),\n",
    "                             index=sorted(unique_words1),\n",
    "                             columns=sorted(unique_words2))\n",
    "\n",
    "# Populate the DataFrame with the similarity scores\n",
    "for (word1, word2), similarity in similarities:\n",
    "    similarity_df.at[word1, word2] = similarity\n",
    "\n",
    "# Calculate the average similarity score across all word pairs\n",
    "average_similarity = similarity_df.values.mean()\n",
    "\n",
    "# Print the similarity matrix and average similarity\n",
    "print(similarity_df)\n",
    "print(f\"Average Similarity: {average_similarity:.2f}\")"
   ]
  },
  {
   "cell_type": "markdown",
   "metadata": {
    "id": "Mw1nnpVGlTpK"
   },
   "source": [
    "## **Generate a similar sentence** <a class=\"anchor\" id=\"glove_gen\" name=\"glove_gen\"></a>"
   ]
  },
  {
   "cell_type": "code",
   "execution_count": null,
   "metadata": {
    "colab": {
     "base_uri": "https://localhost:8080/"
    },
    "id": "OnxkeT310JbJ",
    "outputId": "bbb6554d-036b-4059-c113-b198c975d0ef"
   },
   "outputs": [
    {
     "name": "stdout",
     "output_type": "stream",
     "text": [
      "Old sentence:  The movie is a great plot, the director is a good person. The actors performed very well. Probably the best film of 2014!\n",
      "New sentence:  the moviegoer be a fantastic plotline , the codirector be a great personhood . the Actress performative extremely welly . Improbably the great filmy of 2014 !\n"
     ]
    }
   ],
   "source": [
    "def generate_new_sentence(original_sentence, nlp, word_to_vec):\n",
    "    lemma = lemmatize(original_sentence)\n",
    "    processed_sentence = nlp(lemma.lower())\n",
    "    new_sentence = []\n",
    "    capital = False\n",
    "    for token in processed_sentence:\n",
    "        # Replace only if the word is a noun, verb, adjective or adverb\n",
    "        match token.pos_:\n",
    "          case \"NOUN\":\n",
    "            closest_words = find_closest_words(token.text, word_to_vec)\n",
    "            for word in closest_words:\n",
    "              w = nlp(word[0])\n",
    "              if w[0].pos_ == \"NOUN\":\n",
    "                if capital:\n",
    "                  new_sentence.append(str(word[0]).capitalize())\n",
    "                  capital = False\n",
    "                else:\n",
    "                  new_sentence.append(str(word[0]))\n",
    "                break\n",
    "\n",
    "          case \"VERB\":\n",
    "            closest_words = find_closest_words(token.text, word_to_vec)\n",
    "            for word in closest_words:\n",
    "              w = nlp(word[0])\n",
    "              if w[0].pos_ == \"VERB\":\n",
    "                if capital:\n",
    "                  new_sentence.append(str(word[0]).capitalize())\n",
    "                  capital = False\n",
    "                else:\n",
    "                  new_sentence.append(str(word[0]))\n",
    "                break\n",
    "\n",
    "          case \"ADJ\":\n",
    "            closest_words = find_closest_words(token.text, word_to_vec)\n",
    "            for word in closest_words:\n",
    "              w = nlp(word[0])\n",
    "              if w[0].pos_ == \"ADJ\":\n",
    "                if capital:\n",
    "                  new_sentence.append(str(word[0]).capitalize())\n",
    "                  capital = False\n",
    "                else:\n",
    "                  new_sentence.append(str(word[0]))\n",
    "                break\n",
    "\n",
    "          case \"ADV\":\n",
    "            closest_words = find_closest_words(token.text, word_to_vec)\n",
    "            for word in closest_words:\n",
    "              w = nlp(word[0])\n",
    "              if w[0].pos_ == \"ADV\":\n",
    "                if capital:\n",
    "                  new_sentence.append(str(word[0]).capitalize())\n",
    "                  capital = False\n",
    "                else:\n",
    "                  new_sentence.append(str(word[0]))\n",
    "                break\n",
    "\n",
    "          case _:\n",
    "            if(token.text == \".\"):\n",
    "              capital = True\n",
    "            new_sentence.append(token.text)\n",
    "\n",
    "    return ' '.join(new_sentence)\n",
    "\n",
    "# Usage\n",
    "example_sentence = \"The movie is a great plot, the director is a good person. The actors performed very well. Probably the best film of 2014!\"\n",
    "new_sentence = generate_new_sentence(example_sentence, nlp, word_to_vec)\n",
    "print(\"Old sentence: \", example_sentence)\n",
    "print(\"New sentence: \", new_sentence)\n"
   ]
  },
  {
   "cell_type": "markdown",
   "metadata": {
    "id": "UPV-s0SE8L27"
   },
   "source": [
    "## **Similar Text Generation** <a class=\"anchor\" id=\"NN\" name=\"NN\"></a>\n",
    "[go to top](#TOC)"
   ]
  },
  {
   "cell_type": "markdown",
   "metadata": {
    "id": "XgUEOfktBayQ"
   },
   "source": [
    "### **Similar Text Generation** <a class=\"anchor\" id=\"NLG\" name=\"NLG\"></a>"
   ]
  },
  {
   "cell_type": "markdown",
   "metadata": {
    "id": "FTHneyLWEADr"
   },
   "source": [
    "[Model dla generowania podobnych tekstów oparty na seq2seq, TensorFlow](https://www.kaggle.com/code/spleentery/tensor?scriptVersionId=156598884) Runda 1\n",
    "\n",
    "[Model dla generowania podobnych tekstów oparty na seq2seq, TensorFlow](https://www.kaggle.com/code/spleentery/tensor-improved/notebook?scriptVersionId=155728028) Runda 2"
   ]
  },
  {
   "cell_type": "code",
   "execution_count": null,
   "metadata": {},
   "outputs": [],
   "source": []
  }
 ],
 "metadata": {
  "colab": {
   "collapsed_sections": [
    "0WOKSqLmm9Ad",
    "haYh50YJnIGc",
    "-K4_vcxQnNbV",
    "TasgtGQznWOH",
    "ZmI8iGF7naJ-"
   ],
   "gpuType": "T4",
   "provenance": []
  },
  "kernelspec": {
   "display_name": "Python 3 (ipykernel)",
   "language": "python",
   "name": "python3"
  },
  "language_info": {
   "codemirror_mode": {
    "name": "ipython",
    "version": 3
   },
   "file_extension": ".py",
   "mimetype": "text/x-python",
   "name": "python",
   "nbconvert_exporter": "python",
   "pygments_lexer": "ipython3",
   "version": "3.10.12"
  }
 },
 "nbformat": 4,
 "nbformat_minor": 4
}
